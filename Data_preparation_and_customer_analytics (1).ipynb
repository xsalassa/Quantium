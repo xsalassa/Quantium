{
  "nbformat": 4,
  "nbformat_minor": 0,
  "metadata": {
    "colab": {
      "name": "Data preparation and customer analytics",
      "provenance": [],
      "collapsed_sections": []
    },
    "kernelspec": {
      "name": "python3",
      "display_name": "Python 3"
    },
    "language_info": {
      "name": "python"
    }
  },
  "cells": [
    {
      "cell_type": "markdown",
      "metadata": {
        "id": "7L_IcLGccmHY"
      },
      "source": [
        "## **Import Libraries**"
      ]
    },
    {
      "cell_type": "code",
      "metadata": {
        "id": "lkj9VDAFcktj"
      },
      "source": [
        "import pandas as pd\n",
        "import numpy as np\n",
        "import matplotlib.pyplot as plt\n",
        "import datetime\n",
        "from scipy.stats import ttest_ind"
      ],
      "execution_count": 1,
      "outputs": []
    },
    {
      "cell_type": "markdown",
      "metadata": {
        "id": "OstJJ9Fwc1UE"
      },
      "source": [
        "# **Transaction DatasSet**"
      ]
    },
    {
      "cell_type": "code",
      "metadata": {
        "colab": {
          "base_uri": "https://localhost:8080/",
          "height": 258
        },
        "id": "TLvLeua2c0gm",
        "outputId": "7c0067fe-f9e6-408e-d6c4-6d73582d26a6"
      },
      "source": [
        "df_transaction = pd.read_excel(\"/content/drive/MyDrive/Colab Notebooks/Dataset/QVI_transaction_data.xlsx\")\n",
        "df_transaction.head()"
      ],
      "execution_count": 2,
      "outputs": [
        {
          "output_type": "execute_result",
          "data": {
            "text/html": [
              "<div>\n",
              "<style scoped>\n",
              "    .dataframe tbody tr th:only-of-type {\n",
              "        vertical-align: middle;\n",
              "    }\n",
              "\n",
              "    .dataframe tbody tr th {\n",
              "        vertical-align: top;\n",
              "    }\n",
              "\n",
              "    .dataframe thead th {\n",
              "        text-align: right;\n",
              "    }\n",
              "</style>\n",
              "<table border=\"1\" class=\"dataframe\">\n",
              "  <thead>\n",
              "    <tr style=\"text-align: right;\">\n",
              "      <th></th>\n",
              "      <th>DATE</th>\n",
              "      <th>STORE_NBR</th>\n",
              "      <th>LYLTY_CARD_NBR</th>\n",
              "      <th>TXN_ID</th>\n",
              "      <th>PROD_NBR</th>\n",
              "      <th>PROD_NAME</th>\n",
              "      <th>PROD_QTY</th>\n",
              "      <th>TOT_SALES</th>\n",
              "    </tr>\n",
              "  </thead>\n",
              "  <tbody>\n",
              "    <tr>\n",
              "      <th>0</th>\n",
              "      <td>43390</td>\n",
              "      <td>1</td>\n",
              "      <td>1000</td>\n",
              "      <td>1</td>\n",
              "      <td>5</td>\n",
              "      <td>Natural Chip        Compny SeaSalt175g</td>\n",
              "      <td>2</td>\n",
              "      <td>6.0</td>\n",
              "    </tr>\n",
              "    <tr>\n",
              "      <th>1</th>\n",
              "      <td>43599</td>\n",
              "      <td>1</td>\n",
              "      <td>1307</td>\n",
              "      <td>348</td>\n",
              "      <td>66</td>\n",
              "      <td>CCs Nacho Cheese    175g</td>\n",
              "      <td>3</td>\n",
              "      <td>6.3</td>\n",
              "    </tr>\n",
              "    <tr>\n",
              "      <th>2</th>\n",
              "      <td>43605</td>\n",
              "      <td>1</td>\n",
              "      <td>1343</td>\n",
              "      <td>383</td>\n",
              "      <td>61</td>\n",
              "      <td>Smiths Crinkle Cut  Chips Chicken 170g</td>\n",
              "      <td>2</td>\n",
              "      <td>2.9</td>\n",
              "    </tr>\n",
              "    <tr>\n",
              "      <th>3</th>\n",
              "      <td>43329</td>\n",
              "      <td>2</td>\n",
              "      <td>2373</td>\n",
              "      <td>974</td>\n",
              "      <td>69</td>\n",
              "      <td>Smiths Chip Thinly  S/Cream&amp;Onion 175g</td>\n",
              "      <td>5</td>\n",
              "      <td>15.0</td>\n",
              "    </tr>\n",
              "    <tr>\n",
              "      <th>4</th>\n",
              "      <td>43330</td>\n",
              "      <td>2</td>\n",
              "      <td>2426</td>\n",
              "      <td>1038</td>\n",
              "      <td>108</td>\n",
              "      <td>Kettle Tortilla ChpsHny&amp;Jlpno Chili 150g</td>\n",
              "      <td>3</td>\n",
              "      <td>13.8</td>\n",
              "    </tr>\n",
              "  </tbody>\n",
              "</table>\n",
              "</div>"
            ],
            "text/plain": [
              "    DATE  STORE_NBR  ...  PROD_QTY  TOT_SALES\n",
              "0  43390          1  ...         2        6.0\n",
              "1  43599          1  ...         3        6.3\n",
              "2  43605          1  ...         2        2.9\n",
              "3  43329          2  ...         5       15.0\n",
              "4  43330          2  ...         3       13.8\n",
              "\n",
              "[5 rows x 8 columns]"
            ]
          },
          "metadata": {},
          "execution_count": 2
        }
      ]
    },
    {
      "cell_type": "markdown",
      "metadata": {
        "id": "UjG5NdyZdMfY"
      },
      "source": [
        "# **Customer DataSet**"
      ]
    },
    {
      "cell_type": "code",
      "metadata": {
        "colab": {
          "base_uri": "https://localhost:8080/",
          "height": 206
        },
        "id": "fGELvBmHdKB_",
        "outputId": "16e7d1ec-926c-4eab-c29a-021592ef05a6"
      },
      "source": [
        "customer = pd.read_csv(\"/content/drive/MyDrive/Colab Notebooks/Dataset/QVI_purchase_behaviour.csv\")\n",
        "customer.head()"
      ],
      "execution_count": 3,
      "outputs": [
        {
          "output_type": "execute_result",
          "data": {
            "text/html": [
              "<div>\n",
              "<style scoped>\n",
              "    .dataframe tbody tr th:only-of-type {\n",
              "        vertical-align: middle;\n",
              "    }\n",
              "\n",
              "    .dataframe tbody tr th {\n",
              "        vertical-align: top;\n",
              "    }\n",
              "\n",
              "    .dataframe thead th {\n",
              "        text-align: right;\n",
              "    }\n",
              "</style>\n",
              "<table border=\"1\" class=\"dataframe\">\n",
              "  <thead>\n",
              "    <tr style=\"text-align: right;\">\n",
              "      <th></th>\n",
              "      <th>LYLTY_CARD_NBR</th>\n",
              "      <th>LIFESTAGE</th>\n",
              "      <th>PREMIUM_CUSTOMER</th>\n",
              "    </tr>\n",
              "  </thead>\n",
              "  <tbody>\n",
              "    <tr>\n",
              "      <th>0</th>\n",
              "      <td>1000</td>\n",
              "      <td>YOUNG SINGLES/COUPLES</td>\n",
              "      <td>Premium</td>\n",
              "    </tr>\n",
              "    <tr>\n",
              "      <th>1</th>\n",
              "      <td>1002</td>\n",
              "      <td>YOUNG SINGLES/COUPLES</td>\n",
              "      <td>Mainstream</td>\n",
              "    </tr>\n",
              "    <tr>\n",
              "      <th>2</th>\n",
              "      <td>1003</td>\n",
              "      <td>YOUNG FAMILIES</td>\n",
              "      <td>Budget</td>\n",
              "    </tr>\n",
              "    <tr>\n",
              "      <th>3</th>\n",
              "      <td>1004</td>\n",
              "      <td>OLDER SINGLES/COUPLES</td>\n",
              "      <td>Mainstream</td>\n",
              "    </tr>\n",
              "    <tr>\n",
              "      <th>4</th>\n",
              "      <td>1005</td>\n",
              "      <td>MIDAGE SINGLES/COUPLES</td>\n",
              "      <td>Mainstream</td>\n",
              "    </tr>\n",
              "  </tbody>\n",
              "</table>\n",
              "</div>"
            ],
            "text/plain": [
              "   LYLTY_CARD_NBR               LIFESTAGE PREMIUM_CUSTOMER\n",
              "0            1000   YOUNG SINGLES/COUPLES          Premium\n",
              "1            1002   YOUNG SINGLES/COUPLES       Mainstream\n",
              "2            1003          YOUNG FAMILIES           Budget\n",
              "3            1004   OLDER SINGLES/COUPLES       Mainstream\n",
              "4            1005  MIDAGE SINGLES/COUPLES       Mainstream"
            ]
          },
          "metadata": {},
          "execution_count": 3
        }
      ]
    },
    {
      "cell_type": "markdown",
      "metadata": {
        "id": "TJD2hrH9deMW"
      },
      "source": [
        "# **Merge Dataset**"
      ]
    },
    {
      "cell_type": "code",
      "metadata": {
        "colab": {
          "base_uri": "https://localhost:8080/",
          "height": 400
        },
        "id": "ptAds5Ykdb1W",
        "outputId": "bcd2f4d1-96fc-43b3-f246-52b21dcd1648"
      },
      "source": [
        "dataset = pd.merge(df_transaction, customer, on = \"LYLTY_CARD_NBR\", how = \"left\")\n",
        "dataset.head()"
      ],
      "execution_count": 4,
      "outputs": [
        {
          "output_type": "execute_result",
          "data": {
            "text/html": [
              "<div>\n",
              "<style scoped>\n",
              "    .dataframe tbody tr th:only-of-type {\n",
              "        vertical-align: middle;\n",
              "    }\n",
              "\n",
              "    .dataframe tbody tr th {\n",
              "        vertical-align: top;\n",
              "    }\n",
              "\n",
              "    .dataframe thead th {\n",
              "        text-align: right;\n",
              "    }\n",
              "</style>\n",
              "<table border=\"1\" class=\"dataframe\">\n",
              "  <thead>\n",
              "    <tr style=\"text-align: right;\">\n",
              "      <th></th>\n",
              "      <th>DATE</th>\n",
              "      <th>STORE_NBR</th>\n",
              "      <th>LYLTY_CARD_NBR</th>\n",
              "      <th>TXN_ID</th>\n",
              "      <th>PROD_NBR</th>\n",
              "      <th>PROD_NAME</th>\n",
              "      <th>PROD_QTY</th>\n",
              "      <th>TOT_SALES</th>\n",
              "      <th>LIFESTAGE</th>\n",
              "      <th>PREMIUM_CUSTOMER</th>\n",
              "    </tr>\n",
              "  </thead>\n",
              "  <tbody>\n",
              "    <tr>\n",
              "      <th>0</th>\n",
              "      <td>43390</td>\n",
              "      <td>1</td>\n",
              "      <td>1000</td>\n",
              "      <td>1</td>\n",
              "      <td>5</td>\n",
              "      <td>Natural Chip        Compny SeaSalt175g</td>\n",
              "      <td>2</td>\n",
              "      <td>6.0</td>\n",
              "      <td>YOUNG SINGLES/COUPLES</td>\n",
              "      <td>Premium</td>\n",
              "    </tr>\n",
              "    <tr>\n",
              "      <th>1</th>\n",
              "      <td>43599</td>\n",
              "      <td>1</td>\n",
              "      <td>1307</td>\n",
              "      <td>348</td>\n",
              "      <td>66</td>\n",
              "      <td>CCs Nacho Cheese    175g</td>\n",
              "      <td>3</td>\n",
              "      <td>6.3</td>\n",
              "      <td>MIDAGE SINGLES/COUPLES</td>\n",
              "      <td>Budget</td>\n",
              "    </tr>\n",
              "    <tr>\n",
              "      <th>2</th>\n",
              "      <td>43605</td>\n",
              "      <td>1</td>\n",
              "      <td>1343</td>\n",
              "      <td>383</td>\n",
              "      <td>61</td>\n",
              "      <td>Smiths Crinkle Cut  Chips Chicken 170g</td>\n",
              "      <td>2</td>\n",
              "      <td>2.9</td>\n",
              "      <td>MIDAGE SINGLES/COUPLES</td>\n",
              "      <td>Budget</td>\n",
              "    </tr>\n",
              "    <tr>\n",
              "      <th>3</th>\n",
              "      <td>43329</td>\n",
              "      <td>2</td>\n",
              "      <td>2373</td>\n",
              "      <td>974</td>\n",
              "      <td>69</td>\n",
              "      <td>Smiths Chip Thinly  S/Cream&amp;Onion 175g</td>\n",
              "      <td>5</td>\n",
              "      <td>15.0</td>\n",
              "      <td>MIDAGE SINGLES/COUPLES</td>\n",
              "      <td>Budget</td>\n",
              "    </tr>\n",
              "    <tr>\n",
              "      <th>4</th>\n",
              "      <td>43330</td>\n",
              "      <td>2</td>\n",
              "      <td>2426</td>\n",
              "      <td>1038</td>\n",
              "      <td>108</td>\n",
              "      <td>Kettle Tortilla ChpsHny&amp;Jlpno Chili 150g</td>\n",
              "      <td>3</td>\n",
              "      <td>13.8</td>\n",
              "      <td>MIDAGE SINGLES/COUPLES</td>\n",
              "      <td>Budget</td>\n",
              "    </tr>\n",
              "  </tbody>\n",
              "</table>\n",
              "</div>"
            ],
            "text/plain": [
              "    DATE  STORE_NBR  ...               LIFESTAGE  PREMIUM_CUSTOMER\n",
              "0  43390          1  ...   YOUNG SINGLES/COUPLES           Premium\n",
              "1  43599          1  ...  MIDAGE SINGLES/COUPLES            Budget\n",
              "2  43605          1  ...  MIDAGE SINGLES/COUPLES            Budget\n",
              "3  43329          2  ...  MIDAGE SINGLES/COUPLES            Budget\n",
              "4  43330          2  ...  MIDAGE SINGLES/COUPLES            Budget\n",
              "\n",
              "[5 rows x 10 columns]"
            ]
          },
          "metadata": {},
          "execution_count": 4
        }
      ]
    },
    {
      "cell_type": "markdown",
      "metadata": {
        "id": "_I1nYtyzd6pH"
      },
      "source": [
        "# **Exploratory Data Analysis**\n",
        "**Rename Comuns to become meaningful**"
      ]
    },
    {
      "cell_type": "code",
      "metadata": {
        "colab": {
          "base_uri": "https://localhost:8080/",
          "height": 417
        },
        "id": "UrJftuocd5Bl",
        "outputId": "a7972e33-80cc-4168-8b58-2b69b36f71ff"
      },
      "source": [
        "dataset = dataset.rename(columns = {\"DATE\" : \"Date\",\n",
        "                                    \"LYLTY_CARD_NBR\" : \"Card No\",\n",
        "                          \"LIFESTAGE\" : \"Group\",\n",
        "                          \"PREMIUM_CUSTOMER\" : \"Subcription\",\n",
        "                          \"Date\" : \"Date\",\n",
        "                          \"STORE_NBR\" : \"Store Id\",\n",
        "                          \"TXN_ID\" : \"Transaction Id\",\n",
        "                          \"PROD_NBR\" : \"Product Id\",\n",
        "                          \"PROD_NAME\" : \"Product\",\n",
        "                          \"PROD_QTY\" : \"Quantity\",\n",
        "                          \"TOT_SALES\" : \"Sales\"})\n",
        "dataset.head()"
      ],
      "execution_count": 5,
      "outputs": [
        {
          "output_type": "execute_result",
          "data": {
            "text/html": [
              "<div>\n",
              "<style scoped>\n",
              "    .dataframe tbody tr th:only-of-type {\n",
              "        vertical-align: middle;\n",
              "    }\n",
              "\n",
              "    .dataframe tbody tr th {\n",
              "        vertical-align: top;\n",
              "    }\n",
              "\n",
              "    .dataframe thead th {\n",
              "        text-align: right;\n",
              "    }\n",
              "</style>\n",
              "<table border=\"1\" class=\"dataframe\">\n",
              "  <thead>\n",
              "    <tr style=\"text-align: right;\">\n",
              "      <th></th>\n",
              "      <th>Date</th>\n",
              "      <th>Store Id</th>\n",
              "      <th>Card No</th>\n",
              "      <th>Transaction Id</th>\n",
              "      <th>Product Id</th>\n",
              "      <th>Product</th>\n",
              "      <th>Quantity</th>\n",
              "      <th>Sales</th>\n",
              "      <th>Group</th>\n",
              "      <th>Subcription</th>\n",
              "    </tr>\n",
              "  </thead>\n",
              "  <tbody>\n",
              "    <tr>\n",
              "      <th>0</th>\n",
              "      <td>43390</td>\n",
              "      <td>1</td>\n",
              "      <td>1000</td>\n",
              "      <td>1</td>\n",
              "      <td>5</td>\n",
              "      <td>Natural Chip        Compny SeaSalt175g</td>\n",
              "      <td>2</td>\n",
              "      <td>6.0</td>\n",
              "      <td>YOUNG SINGLES/COUPLES</td>\n",
              "      <td>Premium</td>\n",
              "    </tr>\n",
              "    <tr>\n",
              "      <th>1</th>\n",
              "      <td>43599</td>\n",
              "      <td>1</td>\n",
              "      <td>1307</td>\n",
              "      <td>348</td>\n",
              "      <td>66</td>\n",
              "      <td>CCs Nacho Cheese    175g</td>\n",
              "      <td>3</td>\n",
              "      <td>6.3</td>\n",
              "      <td>MIDAGE SINGLES/COUPLES</td>\n",
              "      <td>Budget</td>\n",
              "    </tr>\n",
              "    <tr>\n",
              "      <th>2</th>\n",
              "      <td>43605</td>\n",
              "      <td>1</td>\n",
              "      <td>1343</td>\n",
              "      <td>383</td>\n",
              "      <td>61</td>\n",
              "      <td>Smiths Crinkle Cut  Chips Chicken 170g</td>\n",
              "      <td>2</td>\n",
              "      <td>2.9</td>\n",
              "      <td>MIDAGE SINGLES/COUPLES</td>\n",
              "      <td>Budget</td>\n",
              "    </tr>\n",
              "    <tr>\n",
              "      <th>3</th>\n",
              "      <td>43329</td>\n",
              "      <td>2</td>\n",
              "      <td>2373</td>\n",
              "      <td>974</td>\n",
              "      <td>69</td>\n",
              "      <td>Smiths Chip Thinly  S/Cream&amp;Onion 175g</td>\n",
              "      <td>5</td>\n",
              "      <td>15.0</td>\n",
              "      <td>MIDAGE SINGLES/COUPLES</td>\n",
              "      <td>Budget</td>\n",
              "    </tr>\n",
              "    <tr>\n",
              "      <th>4</th>\n",
              "      <td>43330</td>\n",
              "      <td>2</td>\n",
              "      <td>2426</td>\n",
              "      <td>1038</td>\n",
              "      <td>108</td>\n",
              "      <td>Kettle Tortilla ChpsHny&amp;Jlpno Chili 150g</td>\n",
              "      <td>3</td>\n",
              "      <td>13.8</td>\n",
              "      <td>MIDAGE SINGLES/COUPLES</td>\n",
              "      <td>Budget</td>\n",
              "    </tr>\n",
              "  </tbody>\n",
              "</table>\n",
              "</div>"
            ],
            "text/plain": [
              "    Date  Store Id  Card No  ...  Sales                   Group Subcription\n",
              "0  43390         1     1000  ...    6.0   YOUNG SINGLES/COUPLES     Premium\n",
              "1  43599         1     1307  ...    6.3  MIDAGE SINGLES/COUPLES      Budget\n",
              "2  43605         1     1343  ...    2.9  MIDAGE SINGLES/COUPLES      Budget\n",
              "3  43329         2     2373  ...   15.0  MIDAGE SINGLES/COUPLES      Budget\n",
              "4  43330         2     2426  ...   13.8  MIDAGE SINGLES/COUPLES      Budget\n",
              "\n",
              "[5 rows x 10 columns]"
            ]
          },
          "metadata": {},
          "execution_count": 5
        }
      ]
    },
    {
      "cell_type": "markdown",
      "metadata": {
        "id": "3h84yCF5fXOe"
      },
      "source": [
        "**Examine Data Types**"
      ]
    },
    {
      "cell_type": "code",
      "metadata": {
        "colab": {
          "base_uri": "https://localhost:8080/"
        },
        "id": "XN_TNBkVfJfv",
        "outputId": "62bcb1c9-5820-41dd-cf34-c8ad13e70877"
      },
      "source": [
        "dataset.dtypes"
      ],
      "execution_count": 6,
      "outputs": [
        {
          "output_type": "execute_result",
          "data": {
            "text/plain": [
              "Date                int64\n",
              "Store Id            int64\n",
              "Card No             int64\n",
              "Transaction Id      int64\n",
              "Product Id          int64\n",
              "Product            object\n",
              "Quantity            int64\n",
              "Sales             float64\n",
              "Group              object\n",
              "Subcription        object\n",
              "dtype: object"
            ]
          },
          "metadata": {},
          "execution_count": 6
        }
      ]
    },
    {
      "cell_type": "markdown",
      "metadata": {
        "id": "tMSmsDYpfnLN"
      },
      "source": [
        "**Convert Date Datatype from (int to Date)**"
      ]
    },
    {
      "cell_type": "code",
      "metadata": {
        "colab": {
          "base_uri": "https://localhost:8080/"
        },
        "id": "9V-SQ3mffiD9",
        "outputId": "1c3132ae-a8a7-4950-d390-357674ef6718"
      },
      "source": [
        "date_offsets = dataset[\"Date\"].to_list()\n",
        "base_date = pd.Timestamp(\"1899-12-30\") #Start Date\n",
        "dataset[\"Date\"] = [base_date + pd.DateOffset(date_offset) for date_offset in date_offsets]\n",
        "dataset[\"Date\"][0:5]"
      ],
      "execution_count": 7,
      "outputs": [
        {
          "output_type": "execute_result",
          "data": {
            "text/plain": [
              "0   2018-10-17\n",
              "1   2019-05-14\n",
              "2   2019-05-20\n",
              "3   2018-08-17\n",
              "4   2018-08-18\n",
              "Name: Date, dtype: datetime64[ns]"
            ]
          },
          "metadata": {},
          "execution_count": 7
        }
      ]
    },
    {
      "cell_type": "markdown",
      "metadata": {
        "id": "MuwPBh9TgVgl"
      },
      "source": [
        "**Product Summarry**"
      ]
    },
    {
      "cell_type": "code",
      "metadata": {
        "colab": {
          "base_uri": "https://localhost:8080/"
        },
        "id": "EBAD2Vz0gOrc",
        "outputId": "8074caec-4d8f-42e8-c325-74c5473cfe46"
      },
      "source": [
        "#Examine Products\n",
        "dataset[\"Product\"].unique()"
      ],
      "execution_count": 8,
      "outputs": [
        {
          "output_type": "execute_result",
          "data": {
            "text/plain": [
              "array(['Natural Chip        Compny SeaSalt175g',\n",
              "       'CCs Nacho Cheese    175g',\n",
              "       'Smiths Crinkle Cut  Chips Chicken 170g',\n",
              "       'Smiths Chip Thinly  S/Cream&Onion 175g',\n",
              "       'Kettle Tortilla ChpsHny&Jlpno Chili 150g',\n",
              "       'Old El Paso Salsa   Dip Tomato Mild 300g',\n",
              "       'Smiths Crinkle Chips Salt & Vinegar 330g',\n",
              "       'Grain Waves         Sweet Chilli 210g',\n",
              "       'Doritos Corn Chip Mexican Jalapeno 150g',\n",
              "       'Grain Waves Sour    Cream&Chives 210G',\n",
              "       'Kettle Sensations   Siracha Lime 150g',\n",
              "       'Twisties Cheese     270g', 'WW Crinkle Cut      Chicken 175g',\n",
              "       'Thins Chips Light&  Tangy 175g', 'CCs Original 175g',\n",
              "       'Burger Rings 220g', 'NCC Sour Cream &    Garden Chives 175g',\n",
              "       'Doritos Corn Chip Southern Chicken 150g',\n",
              "       'Cheezels Cheese Box 125g', 'Smiths Crinkle      Original 330g',\n",
              "       'Infzns Crn Crnchers Tangy Gcamole 110g',\n",
              "       'Kettle Sea Salt     And Vinegar 175g',\n",
              "       'Smiths Chip Thinly  Cut Original 175g', 'Kettle Original 175g',\n",
              "       'Red Rock Deli Thai  Chilli&Lime 150g',\n",
              "       'Pringles Sthrn FriedChicken 134g', 'Pringles Sweet&Spcy BBQ 134g',\n",
              "       'Red Rock Deli SR    Salsa & Mzzrlla 150g',\n",
              "       'Thins Chips         Originl saltd 175g',\n",
              "       'Red Rock Deli Sp    Salt & Truffle 150G',\n",
              "       'Smiths Thinly       Swt Chli&S/Cream175G', 'Kettle Chilli 175g',\n",
              "       'Doritos Mexicana    170g',\n",
              "       'Smiths Crinkle Cut  French OnionDip 150g',\n",
              "       'Natural ChipCo      Hony Soy Chckn175g',\n",
              "       'Dorito Corn Chp     Supreme 380g', 'Twisties Chicken270g',\n",
              "       'Smiths Thinly Cut   Roast Chicken 175g',\n",
              "       'Smiths Crinkle Cut  Tomato Salsa 150g',\n",
              "       'Kettle Mozzarella   Basil & Pesto 175g',\n",
              "       'Infuzions Thai SweetChili PotatoMix 110g',\n",
              "       'Kettle Sensations   Camembert & Fig 150g',\n",
              "       'Smith Crinkle Cut   Mac N Cheese 150g',\n",
              "       'Kettle Honey Soy    Chicken 175g',\n",
              "       'Thins Chips Seasonedchicken 175g',\n",
              "       'Smiths Crinkle Cut  Salt & Vinegar 170g',\n",
              "       'Infuzions BBQ Rib   Prawn Crackers 110g',\n",
              "       'GrnWves Plus Btroot & Chilli Jam 180g',\n",
              "       'Tyrrells Crisps     Lightly Salted 165g',\n",
              "       'Kettle Sweet Chilli And Sour Cream 175g',\n",
              "       'Doritos Salsa       Medium 300g', 'Kettle 135g Swt Pot Sea Salt',\n",
              "       'Pringles SourCream  Onion 134g',\n",
              "       'Doritos Corn Chips  Original 170g',\n",
              "       'Twisties Cheese     Burger 250g',\n",
              "       'Old El Paso Salsa   Dip Chnky Tom Ht300g',\n",
              "       'Cobs Popd Swt/Chlli &Sr/Cream Chips 110g',\n",
              "       'Woolworths Mild     Salsa 300g',\n",
              "       'Natural Chip Co     Tmato Hrb&Spce 175g',\n",
              "       'Smiths Crinkle Cut  Chips Original 170g',\n",
              "       'Cobs Popd Sea Salt  Chips 110g',\n",
              "       'Smiths Crinkle Cut  Chips Chs&Onion170g',\n",
              "       'French Fries Potato Chips 175g',\n",
              "       'Old El Paso Salsa   Dip Tomato Med 300g',\n",
              "       'Doritos Corn Chips  Cheese Supreme 170g',\n",
              "       'Pringles Original   Crisps 134g',\n",
              "       'RRD Chilli&         Coconut 150g',\n",
              "       'WW Original Corn    Chips 200g',\n",
              "       'Thins Potato Chips  Hot & Spicy 175g',\n",
              "       'Cobs Popd Sour Crm  &Chives Chips 110g',\n",
              "       'Smiths Crnkle Chip  Orgnl Big Bag 380g',\n",
              "       'Doritos Corn Chips  Nacho Cheese 170g',\n",
              "       'Kettle Sensations   BBQ&Maple 150g',\n",
              "       'WW D/Style Chip     Sea Salt 200g',\n",
              "       'Pringles Chicken    Salt Crips 134g',\n",
              "       'WW Original Stacked Chips 160g',\n",
              "       'Smiths Chip Thinly  CutSalt/Vinegr175g', 'Cheezels Cheese 330g',\n",
              "       'Tostitos Lightly    Salted 175g',\n",
              "       'Thins Chips Salt &  Vinegar 175g',\n",
              "       'Smiths Crinkle Cut  Chips Barbecue 170g', 'Cheetos Puffs 165g',\n",
              "       'RRD Sweet Chilli &  Sour Cream 165g',\n",
              "       'WW Crinkle Cut      Original 175g',\n",
              "       'Tostitos Splash Of  Lime 175g', 'Woolworths Medium   Salsa 300g',\n",
              "       'Kettle Tortilla ChpsBtroot&Ricotta 150g',\n",
              "       'CCs Tasty Cheese    175g', 'Woolworths Cheese   Rings 190g',\n",
              "       'Tostitos Smoked     Chipotle 175g', 'Pringles Barbeque   134g',\n",
              "       'WW Supreme Cheese   Corn Chips 200g',\n",
              "       'Pringles Mystery    Flavour 134g',\n",
              "       'Tyrrells Crisps     Ched & Chives 165g',\n",
              "       'Snbts Whlgrn Crisps Cheddr&Mstrd 90g',\n",
              "       'Cheetos Chs & Bacon Balls 190g', 'Pringles Slt Vingar 134g',\n",
              "       'Infuzions SourCream&Herbs Veg Strws 110g',\n",
              "       'Kettle Tortilla ChpsFeta&Garlic 150g',\n",
              "       'Infuzions Mango     Chutny Papadums 70g',\n",
              "       'RRD Steak &         Chimuchurri 150g',\n",
              "       'RRD Honey Soy       Chicken 165g',\n",
              "       'Sunbites Whlegrn    Crisps Frch/Onin 90g',\n",
              "       'RRD Salt & Vinegar  165g', 'Doritos Cheese      Supreme 330g',\n",
              "       'Smiths Crinkle Cut  Snag&Sauce 150g',\n",
              "       'WW Sour Cream &OnionStacked Chips 160g',\n",
              "       'RRD Lime & Pepper   165g',\n",
              "       'Natural ChipCo Sea  Salt & Vinegr 175g',\n",
              "       'Red Rock Deli Chikn&Garlic Aioli 150g',\n",
              "       'RRD SR Slow Rst     Pork Belly 150g', 'RRD Pc Sea Salt     165g',\n",
              "       'Smith Crinkle Cut   Bolognese 150g', 'Doritos Salsa Mild  300g'],\n",
              "      dtype=object)"
            ]
          },
          "metadata": {},
          "execution_count": 8
        }
      ]
    },
    {
      "cell_type": "markdown",
      "metadata": {
        "id": "BAKlpfG6gnFo"
      },
      "source": [
        "**Text Analysis on Products**"
      ]
    },
    {
      "cell_type": "code",
      "metadata": {
        "colab": {
          "base_uri": "https://localhost:8080/"
        },
        "id": "EeEg3mHJggb8",
        "outputId": "bfab4876-12bb-417e-badb-9ff148644230"
      },
      "source": [
        "#Remove numbers and special characters\n",
        "split_prods = dataset[\"Product\"].str.replace(r\"([0-9]+[gG])\", \"\").str.replace(r\"[^\\w]\", \" \").str.split()\n",
        "split_prods"
      ],
      "execution_count": 9,
      "outputs": [
        {
          "output_type": "execute_result",
          "data": {
            "text/plain": [
              "0                  [Natural, Chip, Compny, SeaSalt]\n",
              "1                              [CCs, Nacho, Cheese]\n",
              "2            [Smiths, Crinkle, Cut, Chips, Chicken]\n",
              "3           [Smiths, Chip, Thinly, S, Cream, Onion]\n",
              "4         [Kettle, Tortilla, ChpsHny, Jlpno, Chili]\n",
              "                            ...                    \n",
              "264831    [Kettle, Sweet, Chilli, And, Sour, Cream]\n",
              "264832                 [Tostitos, Splash, Of, Lime]\n",
              "264833                          [Doritos, Mexicana]\n",
              "264834     [Doritos, Corn, Chip, Mexican, Jalapeno]\n",
              "264835                 [Tostitos, Splash, Of, Lime]\n",
              "Name: Product, Length: 264836, dtype: object"
            ]
          },
          "metadata": {},
          "execution_count": 9
        }
      ]
    },
    {
      "cell_type": "markdown",
      "metadata": {
        "id": "Ye_EPnOIhSMV"
      },
      "source": [
        "**Frequency of Products**"
      ]
    },
    {
      "cell_type": "code",
      "metadata": {
        "colab": {
          "base_uri": "https://localhost:8080/"
        },
        "id": "-b29NjiJhK37",
        "outputId": "7fdeeff7-6346-454c-c876-3f08bf288f77"
      },
      "source": [
        "word_counts = {}\n",
        "def count_words(line):\n",
        "  for word in line:\n",
        "    if word not in word_counts:\n",
        "      word_counts[word] = 1\n",
        "    else:\n",
        "      word_counts[word] += 1\n",
        "split_prods.apply(lambda line: count_words(line))\n",
        "print(pd.Series(word_counts).sort_values(ascending = False))"
      ],
      "execution_count": 10,
      "outputs": [
        {
          "output_type": "stream",
          "name": "stdout",
          "text": [
            "Chips      49770\n",
            "Kettle     41288\n",
            "Smiths     28860\n",
            "Salt       27976\n",
            "Cheese     27890\n",
            "           ...  \n",
            "Whlegrn     1432\n",
            "Pc          1431\n",
            "NCC         1419\n",
            "Garden      1419\n",
            "Fries       1418\n",
            "Length: 198, dtype: int64\n"
          ]
        }
      ]
    },
    {
      "cell_type": "markdown",
      "metadata": {
        "id": "w4trWggYh9q1"
      },
      "source": [
        "**Remove Salsa Product**"
      ]
    },
    {
      "cell_type": "code",
      "metadata": {
        "colab": {
          "base_uri": "https://localhost:8080/",
          "height": 397
        },
        "id": "KYToyHNsh0XG",
        "outputId": "7f8488ec-3450-4f77-ee8b-7a9b3d2aed7f"
      },
      "source": [
        "dataset = dataset[~dataset[\"Product\"].str.contains(r\"[Ss]alsa\")]\n",
        "dataset.head()"
      ],
      "execution_count": 11,
      "outputs": [
        {
          "output_type": "execute_result",
          "data": {
            "text/html": [
              "<div>\n",
              "<style scoped>\n",
              "    .dataframe tbody tr th:only-of-type {\n",
              "        vertical-align: middle;\n",
              "    }\n",
              "\n",
              "    .dataframe tbody tr th {\n",
              "        vertical-align: top;\n",
              "    }\n",
              "\n",
              "    .dataframe thead th {\n",
              "        text-align: right;\n",
              "    }\n",
              "</style>\n",
              "<table border=\"1\" class=\"dataframe\">\n",
              "  <thead>\n",
              "    <tr style=\"text-align: right;\">\n",
              "      <th></th>\n",
              "      <th>Date</th>\n",
              "      <th>Store Id</th>\n",
              "      <th>Card No</th>\n",
              "      <th>Transaction Id</th>\n",
              "      <th>Product Id</th>\n",
              "      <th>Product</th>\n",
              "      <th>Quantity</th>\n",
              "      <th>Sales</th>\n",
              "      <th>Group</th>\n",
              "      <th>Subcription</th>\n",
              "    </tr>\n",
              "  </thead>\n",
              "  <tbody>\n",
              "    <tr>\n",
              "      <th>0</th>\n",
              "      <td>2018-10-17</td>\n",
              "      <td>1</td>\n",
              "      <td>1000</td>\n",
              "      <td>1</td>\n",
              "      <td>5</td>\n",
              "      <td>Natural Chip        Compny SeaSalt175g</td>\n",
              "      <td>2</td>\n",
              "      <td>6.0</td>\n",
              "      <td>YOUNG SINGLES/COUPLES</td>\n",
              "      <td>Premium</td>\n",
              "    </tr>\n",
              "    <tr>\n",
              "      <th>1</th>\n",
              "      <td>2019-05-14</td>\n",
              "      <td>1</td>\n",
              "      <td>1307</td>\n",
              "      <td>348</td>\n",
              "      <td>66</td>\n",
              "      <td>CCs Nacho Cheese    175g</td>\n",
              "      <td>3</td>\n",
              "      <td>6.3</td>\n",
              "      <td>MIDAGE SINGLES/COUPLES</td>\n",
              "      <td>Budget</td>\n",
              "    </tr>\n",
              "    <tr>\n",
              "      <th>2</th>\n",
              "      <td>2019-05-20</td>\n",
              "      <td>1</td>\n",
              "      <td>1343</td>\n",
              "      <td>383</td>\n",
              "      <td>61</td>\n",
              "      <td>Smiths Crinkle Cut  Chips Chicken 170g</td>\n",
              "      <td>2</td>\n",
              "      <td>2.9</td>\n",
              "      <td>MIDAGE SINGLES/COUPLES</td>\n",
              "      <td>Budget</td>\n",
              "    </tr>\n",
              "    <tr>\n",
              "      <th>3</th>\n",
              "      <td>2018-08-17</td>\n",
              "      <td>2</td>\n",
              "      <td>2373</td>\n",
              "      <td>974</td>\n",
              "      <td>69</td>\n",
              "      <td>Smiths Chip Thinly  S/Cream&amp;Onion 175g</td>\n",
              "      <td>5</td>\n",
              "      <td>15.0</td>\n",
              "      <td>MIDAGE SINGLES/COUPLES</td>\n",
              "      <td>Budget</td>\n",
              "    </tr>\n",
              "    <tr>\n",
              "      <th>4</th>\n",
              "      <td>2018-08-18</td>\n",
              "      <td>2</td>\n",
              "      <td>2426</td>\n",
              "      <td>1038</td>\n",
              "      <td>108</td>\n",
              "      <td>Kettle Tortilla ChpsHny&amp;Jlpno Chili 150g</td>\n",
              "      <td>3</td>\n",
              "      <td>13.8</td>\n",
              "      <td>MIDAGE SINGLES/COUPLES</td>\n",
              "      <td>Budget</td>\n",
              "    </tr>\n",
              "  </tbody>\n",
              "</table>\n",
              "</div>"
            ],
            "text/plain": [
              "        Date  Store Id  Card No  ...  Sales                   Group Subcription\n",
              "0 2018-10-17         1     1000  ...    6.0   YOUNG SINGLES/COUPLES     Premium\n",
              "1 2019-05-14         1     1307  ...    6.3  MIDAGE SINGLES/COUPLES      Budget\n",
              "2 2019-05-20         1     1343  ...    2.9  MIDAGE SINGLES/COUPLES      Budget\n",
              "3 2018-08-17         2     2373  ...   15.0  MIDAGE SINGLES/COUPLES      Budget\n",
              "4 2018-08-18         2     2426  ...   13.8  MIDAGE SINGLES/COUPLES      Budget\n",
              "\n",
              "[5 rows x 10 columns]"
            ]
          },
          "metadata": {},
          "execution_count": 11
        }
      ]
    },
    {
      "cell_type": "markdown",
      "metadata": {
        "id": "DWZxyOt4iWVp"
      },
      "source": [
        "**Check Null and Outliers**"
      ]
    },
    {
      "cell_type": "code",
      "metadata": {
        "colab": {
          "base_uri": "https://localhost:8080/",
          "height": 300
        },
        "id": "ddbPtDaeiLz0",
        "outputId": "14e60991-aee5-4a3e-81c0-eb6bcb49d8c8"
      },
      "source": [
        "dataset.describe()"
      ],
      "execution_count": 12,
      "outputs": [
        {
          "output_type": "execute_result",
          "data": {
            "text/html": [
              "<div>\n",
              "<style scoped>\n",
              "    .dataframe tbody tr th:only-of-type {\n",
              "        vertical-align: middle;\n",
              "    }\n",
              "\n",
              "    .dataframe tbody tr th {\n",
              "        vertical-align: top;\n",
              "    }\n",
              "\n",
              "    .dataframe thead th {\n",
              "        text-align: right;\n",
              "    }\n",
              "</style>\n",
              "<table border=\"1\" class=\"dataframe\">\n",
              "  <thead>\n",
              "    <tr style=\"text-align: right;\">\n",
              "      <th></th>\n",
              "      <th>Store Id</th>\n",
              "      <th>Card No</th>\n",
              "      <th>Transaction Id</th>\n",
              "      <th>Product Id</th>\n",
              "      <th>Quantity</th>\n",
              "      <th>Sales</th>\n",
              "    </tr>\n",
              "  </thead>\n",
              "  <tbody>\n",
              "    <tr>\n",
              "      <th>count</th>\n",
              "      <td>246742.000000</td>\n",
              "      <td>2.467420e+05</td>\n",
              "      <td>2.467420e+05</td>\n",
              "      <td>246742.000000</td>\n",
              "      <td>246742.000000</td>\n",
              "      <td>246742.000000</td>\n",
              "    </tr>\n",
              "    <tr>\n",
              "      <th>mean</th>\n",
              "      <td>135.051098</td>\n",
              "      <td>1.355310e+05</td>\n",
              "      <td>1.351311e+05</td>\n",
              "      <td>56.351789</td>\n",
              "      <td>1.908062</td>\n",
              "      <td>7.321322</td>\n",
              "    </tr>\n",
              "    <tr>\n",
              "      <th>std</th>\n",
              "      <td>76.787096</td>\n",
              "      <td>8.071528e+04</td>\n",
              "      <td>7.814772e+04</td>\n",
              "      <td>33.695428</td>\n",
              "      <td>0.659831</td>\n",
              "      <td>3.077828</td>\n",
              "    </tr>\n",
              "    <tr>\n",
              "      <th>min</th>\n",
              "      <td>1.000000</td>\n",
              "      <td>1.000000e+03</td>\n",
              "      <td>1.000000e+00</td>\n",
              "      <td>1.000000</td>\n",
              "      <td>1.000000</td>\n",
              "      <td>1.700000</td>\n",
              "    </tr>\n",
              "    <tr>\n",
              "      <th>25%</th>\n",
              "      <td>70.000000</td>\n",
              "      <td>7.001500e+04</td>\n",
              "      <td>6.756925e+04</td>\n",
              "      <td>26.000000</td>\n",
              "      <td>2.000000</td>\n",
              "      <td>5.800000</td>\n",
              "    </tr>\n",
              "    <tr>\n",
              "      <th>50%</th>\n",
              "      <td>130.000000</td>\n",
              "      <td>1.303670e+05</td>\n",
              "      <td>1.351830e+05</td>\n",
              "      <td>53.000000</td>\n",
              "      <td>2.000000</td>\n",
              "      <td>7.400000</td>\n",
              "    </tr>\n",
              "    <tr>\n",
              "      <th>75%</th>\n",
              "      <td>203.000000</td>\n",
              "      <td>2.030840e+05</td>\n",
              "      <td>2.026538e+05</td>\n",
              "      <td>87.000000</td>\n",
              "      <td>2.000000</td>\n",
              "      <td>8.800000</td>\n",
              "    </tr>\n",
              "    <tr>\n",
              "      <th>max</th>\n",
              "      <td>272.000000</td>\n",
              "      <td>2.373711e+06</td>\n",
              "      <td>2.415841e+06</td>\n",
              "      <td>114.000000</td>\n",
              "      <td>200.000000</td>\n",
              "      <td>650.000000</td>\n",
              "    </tr>\n",
              "  </tbody>\n",
              "</table>\n",
              "</div>"
            ],
            "text/plain": [
              "            Store Id       Card No  ...       Quantity          Sales\n",
              "count  246742.000000  2.467420e+05  ...  246742.000000  246742.000000\n",
              "mean      135.051098  1.355310e+05  ...       1.908062       7.321322\n",
              "std        76.787096  8.071528e+04  ...       0.659831       3.077828\n",
              "min         1.000000  1.000000e+03  ...       1.000000       1.700000\n",
              "25%        70.000000  7.001500e+04  ...       2.000000       5.800000\n",
              "50%       130.000000  1.303670e+05  ...       2.000000       7.400000\n",
              "75%       203.000000  2.030840e+05  ...       2.000000       8.800000\n",
              "max       272.000000  2.373711e+06  ...     200.000000     650.000000\n",
              "\n",
              "[8 rows x 6 columns]"
            ]
          },
          "metadata": {},
          "execution_count": 12
        }
      ]
    },
    {
      "cell_type": "markdown",
      "metadata": {
        "id": "uNNJvLnFi8Ql"
      },
      "source": [
        "**View Outlier Customer**"
      ]
    },
    {
      "cell_type": "code",
      "metadata": {
        "colab": {
          "base_uri": "https://localhost:8080/",
          "height": 432
        },
        "id": "puBXGufnilhq",
        "outputId": "2cf9c3e6-8a85-4bed-b35b-1b7d01e9aacc"
      },
      "source": [
        "dataset.sort_values(by = \"Quantity\", ascending = False).head()"
      ],
      "execution_count": 13,
      "outputs": [
        {
          "output_type": "execute_result",
          "data": {
            "text/html": [
              "<div>\n",
              "<style scoped>\n",
              "    .dataframe tbody tr th:only-of-type {\n",
              "        vertical-align: middle;\n",
              "    }\n",
              "\n",
              "    .dataframe tbody tr th {\n",
              "        vertical-align: top;\n",
              "    }\n",
              "\n",
              "    .dataframe thead th {\n",
              "        text-align: right;\n",
              "    }\n",
              "</style>\n",
              "<table border=\"1\" class=\"dataframe\">\n",
              "  <thead>\n",
              "    <tr style=\"text-align: right;\">\n",
              "      <th></th>\n",
              "      <th>Date</th>\n",
              "      <th>Store Id</th>\n",
              "      <th>Card No</th>\n",
              "      <th>Transaction Id</th>\n",
              "      <th>Product Id</th>\n",
              "      <th>Product</th>\n",
              "      <th>Quantity</th>\n",
              "      <th>Sales</th>\n",
              "      <th>Group</th>\n",
              "      <th>Subcription</th>\n",
              "    </tr>\n",
              "  </thead>\n",
              "  <tbody>\n",
              "    <tr>\n",
              "      <th>69763</th>\n",
              "      <td>2019-05-20</td>\n",
              "      <td>226</td>\n",
              "      <td>226000</td>\n",
              "      <td>226210</td>\n",
              "      <td>4</td>\n",
              "      <td>Dorito Corn Chp     Supreme 380g</td>\n",
              "      <td>200</td>\n",
              "      <td>650.0</td>\n",
              "      <td>OLDER FAMILIES</td>\n",
              "      <td>Premium</td>\n",
              "    </tr>\n",
              "    <tr>\n",
              "      <th>69762</th>\n",
              "      <td>2018-08-19</td>\n",
              "      <td>226</td>\n",
              "      <td>226000</td>\n",
              "      <td>226201</td>\n",
              "      <td>4</td>\n",
              "      <td>Dorito Corn Chp     Supreme 380g</td>\n",
              "      <td>200</td>\n",
              "      <td>650.0</td>\n",
              "      <td>OLDER FAMILIES</td>\n",
              "      <td>Premium</td>\n",
              "    </tr>\n",
              "    <tr>\n",
              "      <th>135225</th>\n",
              "      <td>2019-05-15</td>\n",
              "      <td>46</td>\n",
              "      <td>46296</td>\n",
              "      <td>42138</td>\n",
              "      <td>81</td>\n",
              "      <td>Pringles Original   Crisps 134g</td>\n",
              "      <td>5</td>\n",
              "      <td>18.5</td>\n",
              "      <td>RETIREES</td>\n",
              "      <td>Budget</td>\n",
              "    </tr>\n",
              "    <tr>\n",
              "      <th>69523</th>\n",
              "      <td>2019-05-15</td>\n",
              "      <td>71</td>\n",
              "      <td>71142</td>\n",
              "      <td>69852</td>\n",
              "      <td>96</td>\n",
              "      <td>WW Original Stacked Chips 160g</td>\n",
              "      <td>5</td>\n",
              "      <td>9.5</td>\n",
              "      <td>OLDER FAMILIES</td>\n",
              "      <td>Premium</td>\n",
              "    </tr>\n",
              "    <tr>\n",
              "      <th>69502</th>\n",
              "      <td>2018-08-18</td>\n",
              "      <td>55</td>\n",
              "      <td>55144</td>\n",
              "      <td>49328</td>\n",
              "      <td>44</td>\n",
              "      <td>Thins Chips Light&amp;  Tangy 175g</td>\n",
              "      <td>5</td>\n",
              "      <td>16.5</td>\n",
              "      <td>OLDER FAMILIES</td>\n",
              "      <td>Premium</td>\n",
              "    </tr>\n",
              "  </tbody>\n",
              "</table>\n",
              "</div>"
            ],
            "text/plain": [
              "             Date  Store Id  Card No  ...  Sales           Group Subcription\n",
              "69763  2019-05-20       226   226000  ...  650.0  OLDER FAMILIES     Premium\n",
              "69762  2018-08-19       226   226000  ...  650.0  OLDER FAMILIES     Premium\n",
              "135225 2019-05-15        46    46296  ...   18.5        RETIREES      Budget\n",
              "69523  2019-05-15        71    71142  ...    9.5  OLDER FAMILIES     Premium\n",
              "69502  2018-08-18        55    55144  ...   16.5  OLDER FAMILIES     Premium\n",
              "\n",
              "[5 rows x 10 columns]"
            ]
          },
          "metadata": {},
          "execution_count": 13
        }
      ]
    },
    {
      "cell_type": "markdown",
      "metadata": {
        "id": "HKQkXP_piWh1"
      },
      "source": [
        "**See if Card no. 2260000 has other transactions**"
      ]
    },
    {
      "cell_type": "code",
      "metadata": {
        "colab": {
          "base_uri": "https://localhost:8080/"
        },
        "id": "gi3bg1m6jJDU",
        "outputId": "309a0ee2-695b-48cc-9371-bea6a7ac9c44"
      },
      "source": [
        "len(dataset[dataset[\"Card No\"] == 226000])"
      ],
      "execution_count": 14,
      "outputs": [
        {
          "output_type": "execute_result",
          "data": {
            "text/plain": [
              "2"
            ]
          },
          "metadata": {},
          "execution_count": 14
        }
      ]
    },
    {
      "cell_type": "markdown",
      "metadata": {
        "id": "Q9OD6HorjVxf"
      },
      "source": [
        "**Eng** :*It looks like this customer has only had the two transactions over the uear and is not an ordinary retail customer. The customer might be buying chips for commercial purposes instead. We'll remove this loyalty card nu,ber from further analysis*"
      ]
    },
    {
      "cell_type": "markdown",
      "metadata": {
        "id": "3vy7NA6uj4mN"
      },
      "source": [
        "**Ind** : *Sepertinya pelanggan ini hanya melakukan dua kali transaksi selama setahun dan bukan pelanggan ritel biasa. Pelanggan mungkin membeli chip untuk tujuan komersial sebagai gantinya. Kita akan menghapus nomor kartu loyalitas ini dari analisis lebih lanjut*"
      ]
    },
    {
      "cell_type": "markdown",
      "metadata": {
        "id": "uz4SAtTtkGkt"
      },
      "source": [
        "**Remove Outlier**"
      ]
    },
    {
      "cell_type": "code",
      "metadata": {
        "colab": {
          "base_uri": "https://localhost:8080/",
          "height": 397
        },
        "id": "osjEwykLjN54",
        "outputId": "af444f82-1513-4356-d5a1-7c009fe15c75"
      },
      "source": [
        "dataset = dataset[dataset[\"Quantity\"] < 6]\n",
        "dataset.head()"
      ],
      "execution_count": 15,
      "outputs": [
        {
          "output_type": "execute_result",
          "data": {
            "text/html": [
              "<div>\n",
              "<style scoped>\n",
              "    .dataframe tbody tr th:only-of-type {\n",
              "        vertical-align: middle;\n",
              "    }\n",
              "\n",
              "    .dataframe tbody tr th {\n",
              "        vertical-align: top;\n",
              "    }\n",
              "\n",
              "    .dataframe thead th {\n",
              "        text-align: right;\n",
              "    }\n",
              "</style>\n",
              "<table border=\"1\" class=\"dataframe\">\n",
              "  <thead>\n",
              "    <tr style=\"text-align: right;\">\n",
              "      <th></th>\n",
              "      <th>Date</th>\n",
              "      <th>Store Id</th>\n",
              "      <th>Card No</th>\n",
              "      <th>Transaction Id</th>\n",
              "      <th>Product Id</th>\n",
              "      <th>Product</th>\n",
              "      <th>Quantity</th>\n",
              "      <th>Sales</th>\n",
              "      <th>Group</th>\n",
              "      <th>Subcription</th>\n",
              "    </tr>\n",
              "  </thead>\n",
              "  <tbody>\n",
              "    <tr>\n",
              "      <th>0</th>\n",
              "      <td>2018-10-17</td>\n",
              "      <td>1</td>\n",
              "      <td>1000</td>\n",
              "      <td>1</td>\n",
              "      <td>5</td>\n",
              "      <td>Natural Chip        Compny SeaSalt175g</td>\n",
              "      <td>2</td>\n",
              "      <td>6.0</td>\n",
              "      <td>YOUNG SINGLES/COUPLES</td>\n",
              "      <td>Premium</td>\n",
              "    </tr>\n",
              "    <tr>\n",
              "      <th>1</th>\n",
              "      <td>2019-05-14</td>\n",
              "      <td>1</td>\n",
              "      <td>1307</td>\n",
              "      <td>348</td>\n",
              "      <td>66</td>\n",
              "      <td>CCs Nacho Cheese    175g</td>\n",
              "      <td>3</td>\n",
              "      <td>6.3</td>\n",
              "      <td>MIDAGE SINGLES/COUPLES</td>\n",
              "      <td>Budget</td>\n",
              "    </tr>\n",
              "    <tr>\n",
              "      <th>2</th>\n",
              "      <td>2019-05-20</td>\n",
              "      <td>1</td>\n",
              "      <td>1343</td>\n",
              "      <td>383</td>\n",
              "      <td>61</td>\n",
              "      <td>Smiths Crinkle Cut  Chips Chicken 170g</td>\n",
              "      <td>2</td>\n",
              "      <td>2.9</td>\n",
              "      <td>MIDAGE SINGLES/COUPLES</td>\n",
              "      <td>Budget</td>\n",
              "    </tr>\n",
              "    <tr>\n",
              "      <th>3</th>\n",
              "      <td>2018-08-17</td>\n",
              "      <td>2</td>\n",
              "      <td>2373</td>\n",
              "      <td>974</td>\n",
              "      <td>69</td>\n",
              "      <td>Smiths Chip Thinly  S/Cream&amp;Onion 175g</td>\n",
              "      <td>5</td>\n",
              "      <td>15.0</td>\n",
              "      <td>MIDAGE SINGLES/COUPLES</td>\n",
              "      <td>Budget</td>\n",
              "    </tr>\n",
              "    <tr>\n",
              "      <th>4</th>\n",
              "      <td>2018-08-18</td>\n",
              "      <td>2</td>\n",
              "      <td>2426</td>\n",
              "      <td>1038</td>\n",
              "      <td>108</td>\n",
              "      <td>Kettle Tortilla ChpsHny&amp;Jlpno Chili 150g</td>\n",
              "      <td>3</td>\n",
              "      <td>13.8</td>\n",
              "      <td>MIDAGE SINGLES/COUPLES</td>\n",
              "      <td>Budget</td>\n",
              "    </tr>\n",
              "  </tbody>\n",
              "</table>\n",
              "</div>"
            ],
            "text/plain": [
              "        Date  Store Id  Card No  ...  Sales                   Group Subcription\n",
              "0 2018-10-17         1     1000  ...    6.0   YOUNG SINGLES/COUPLES     Premium\n",
              "1 2019-05-14         1     1307  ...    6.3  MIDAGE SINGLES/COUPLES      Budget\n",
              "2 2019-05-20         1     1343  ...    2.9  MIDAGE SINGLES/COUPLES      Budget\n",
              "3 2018-08-17         2     2373  ...   15.0  MIDAGE SINGLES/COUPLES      Budget\n",
              "4 2018-08-18         2     2426  ...   13.8  MIDAGE SINGLES/COUPLES      Budget\n",
              "\n",
              "[5 rows x 10 columns]"
            ]
          },
          "metadata": {},
          "execution_count": 15
        }
      ]
    },
    {
      "cell_type": "markdown",
      "metadata": {
        "id": "7hkaNC33kVxp"
      },
      "source": [
        "**Count the Number of Transactions by date**"
      ]
    },
    {
      "cell_type": "code",
      "metadata": {
        "colab": {
          "base_uri": "https://localhost:8080/"
        },
        "id": "9HYTUq5gkPtV",
        "outputId": "d4dd8d24-57d8-4cb5-d213-20ae65cb71c3"
      },
      "source": [
        "trans_by_date = dataset[\"Date\"].value_counts()\n",
        "trans_by_date"
      ],
      "execution_count": 16,
      "outputs": [
        {
          "output_type": "execute_result",
          "data": {
            "text/plain": [
              "2018-12-24    865\n",
              "2018-12-23    853\n",
              "2018-12-22    840\n",
              "2018-12-19    839\n",
              "2018-12-20    808\n",
              "             ... \n",
              "2019-06-24    612\n",
              "2018-10-18    611\n",
              "2018-11-25    610\n",
              "2018-09-22    609\n",
              "2019-06-13    607\n",
              "Name: Date, Length: 364, dtype: int64"
            ]
          },
          "metadata": {},
          "execution_count": 16
        }
      ]
    },
    {
      "cell_type": "markdown",
      "metadata": {
        "id": "bX1QI6PCkpJJ"
      },
      "source": [
        "**Chect to see if somes transactional data dates missing**"
      ]
    },
    {
      "cell_type": "code",
      "metadata": {
        "colab": {
          "base_uri": "https://localhost:8080/"
        },
        "id": "Wo7t-GlIki3y",
        "outputId": "4ba6462c-c88b-423e-989b-bb0077408ccc"
      },
      "source": [
        "dataset[\"Date\"].describe()"
      ],
      "execution_count": 17,
      "outputs": [
        {
          "output_type": "stream",
          "name": "stderr",
          "text": [
            "/usr/local/lib/python3.7/dist-packages/ipykernel_launcher.py:1: FutureWarning: Treating datetime data as categorical rather than numeric in `.describe` is deprecated and will be removed in a future version of pandas. Specify `datetime_is_numeric=True` to silence this warning and adopt the future behavior now.\n",
            "  \"\"\"Entry point for launching an IPython kernel.\n"
          ]
        },
        {
          "output_type": "execute_result",
          "data": {
            "text/plain": [
              "count                  246740\n",
              "unique                    364\n",
              "top       2018-12-24 00:00:00\n",
              "freq                      865\n",
              "first     2018-07-01 00:00:00\n",
              "last      2019-06-30 00:00:00\n",
              "Name: Date, dtype: object"
            ]
          },
          "metadata": {},
          "execution_count": 17
        }
      ]
    },
    {
      "cell_type": "markdown",
      "metadata": {
        "id": "R7XI9HUCk2Xf"
      },
      "source": [
        "**Eng** : *Instead of 365, the Date column only has 364 unique values. 1 is missing.*\n"
      ]
    },
    {
      "cell_type": "markdown",
      "metadata": {
        "id": "ItElhslylckU"
      },
      "source": [
        "**Ind** : *Bukannya 365 hari, Kolom \"Unique\" hanya memiliki 364 hari, dan 1 hilang*"
      ]
    },
    {
      "cell_type": "code",
      "metadata": {
        "colab": {
          "base_uri": "https://localhost:8080/"
        },
        "id": "JErz4R51kuxq",
        "outputId": "c2c65839-bc09-4037-8f16-9ee9453b45c2"
      },
      "source": [
        "pd.date_range(start = dataset[\"Date\"].min(), end = dataset[\"Date\"].max()).difference(dataset[\"Date\"])"
      ],
      "execution_count": 18,
      "outputs": [
        {
          "output_type": "execute_result",
          "data": {
            "text/plain": [
              "DatetimeIndex(['2018-12-25'], dtype='datetime64[ns]', freq=None)"
            ]
          },
          "metadata": {},
          "execution_count": 18
        }
      ]
    },
    {
      "cell_type": "markdown",
      "metadata": {
        "id": "SVpy9vafl24R"
      },
      "source": [
        "**Inser Missing Value**"
      ]
    },
    {
      "cell_type": "code",
      "metadata": {
        "colab": {
          "base_uri": "https://localhost:8080/",
          "height": 469
        },
        "id": "KC7itTdGlx3i",
        "outputId": "29f7ee49-35cd-41c5-abd1-8427ea3e7f5a"
      },
      "source": [
        "merge_value = pd.merge(pd.Series(pd.date_range(start = dataset[\"Date\"].min(), end = dataset[\"Date\"].max()), name = \"Date\"), dataset, on = \"Date\", how = \"left\")\n",
        "merge_value.head()"
      ],
      "execution_count": 19,
      "outputs": [
        {
          "output_type": "execute_result",
          "data": {
            "text/html": [
              "<div>\n",
              "<style scoped>\n",
              "    .dataframe tbody tr th:only-of-type {\n",
              "        vertical-align: middle;\n",
              "    }\n",
              "\n",
              "    .dataframe tbody tr th {\n",
              "        vertical-align: top;\n",
              "    }\n",
              "\n",
              "    .dataframe thead th {\n",
              "        text-align: right;\n",
              "    }\n",
              "</style>\n",
              "<table border=\"1\" class=\"dataframe\">\n",
              "  <thead>\n",
              "    <tr style=\"text-align: right;\">\n",
              "      <th></th>\n",
              "      <th>Date</th>\n",
              "      <th>Store Id</th>\n",
              "      <th>Card No</th>\n",
              "      <th>Transaction Id</th>\n",
              "      <th>Product Id</th>\n",
              "      <th>Product</th>\n",
              "      <th>Quantity</th>\n",
              "      <th>Sales</th>\n",
              "      <th>Group</th>\n",
              "      <th>Subcription</th>\n",
              "    </tr>\n",
              "  </thead>\n",
              "  <tbody>\n",
              "    <tr>\n",
              "      <th>0</th>\n",
              "      <td>2018-07-01</td>\n",
              "      <td>47.0</td>\n",
              "      <td>47142.0</td>\n",
              "      <td>42540.0</td>\n",
              "      <td>14.0</td>\n",
              "      <td>Smiths Crnkle Chip  Orgnl Big Bag 380g</td>\n",
              "      <td>2.0</td>\n",
              "      <td>11.8</td>\n",
              "      <td>MIDAGE SINGLES/COUPLES</td>\n",
              "      <td>Budget</td>\n",
              "    </tr>\n",
              "    <tr>\n",
              "      <th>1</th>\n",
              "      <td>2018-07-01</td>\n",
              "      <td>55.0</td>\n",
              "      <td>55073.0</td>\n",
              "      <td>48884.0</td>\n",
              "      <td>99.0</td>\n",
              "      <td>Pringles Sthrn FriedChicken 134g</td>\n",
              "      <td>2.0</td>\n",
              "      <td>7.4</td>\n",
              "      <td>MIDAGE SINGLES/COUPLES</td>\n",
              "      <td>Budget</td>\n",
              "    </tr>\n",
              "    <tr>\n",
              "      <th>2</th>\n",
              "      <td>2018-07-01</td>\n",
              "      <td>55.0</td>\n",
              "      <td>55073.0</td>\n",
              "      <td>48884.0</td>\n",
              "      <td>91.0</td>\n",
              "      <td>CCs Tasty Cheese    175g</td>\n",
              "      <td>2.0</td>\n",
              "      <td>4.2</td>\n",
              "      <td>MIDAGE SINGLES/COUPLES</td>\n",
              "      <td>Budget</td>\n",
              "    </tr>\n",
              "    <tr>\n",
              "      <th>3</th>\n",
              "      <td>2018-07-01</td>\n",
              "      <td>58.0</td>\n",
              "      <td>58351.0</td>\n",
              "      <td>54374.0</td>\n",
              "      <td>102.0</td>\n",
              "      <td>Kettle Mozzarella   Basil &amp; Pesto 175g</td>\n",
              "      <td>2.0</td>\n",
              "      <td>10.8</td>\n",
              "      <td>MIDAGE SINGLES/COUPLES</td>\n",
              "      <td>Budget</td>\n",
              "    </tr>\n",
              "    <tr>\n",
              "      <th>4</th>\n",
              "      <td>2018-07-01</td>\n",
              "      <td>68.0</td>\n",
              "      <td>68193.0</td>\n",
              "      <td>65598.0</td>\n",
              "      <td>44.0</td>\n",
              "      <td>Thins Chips Light&amp;  Tangy 175g</td>\n",
              "      <td>2.0</td>\n",
              "      <td>6.6</td>\n",
              "      <td>MIDAGE SINGLES/COUPLES</td>\n",
              "      <td>Budget</td>\n",
              "    </tr>\n",
              "  </tbody>\n",
              "</table>\n",
              "</div>"
            ],
            "text/plain": [
              "        Date  Store Id  Card No  ...  Sales                   Group Subcription\n",
              "0 2018-07-01      47.0  47142.0  ...   11.8  MIDAGE SINGLES/COUPLES      Budget\n",
              "1 2018-07-01      55.0  55073.0  ...    7.4  MIDAGE SINGLES/COUPLES      Budget\n",
              "2 2018-07-01      55.0  55073.0  ...    4.2  MIDAGE SINGLES/COUPLES      Budget\n",
              "3 2018-07-01      58.0  58351.0  ...   10.8  MIDAGE SINGLES/COUPLES      Budget\n",
              "4 2018-07-01      68.0  68193.0  ...    6.6  MIDAGE SINGLES/COUPLES      Budget\n",
              "\n",
              "[5 rows x 10 columns]"
            ]
          },
          "metadata": {},
          "execution_count": 19
        }
      ]
    },
    {
      "cell_type": "markdown",
      "metadata": {
        "id": "IAd7NuFEnYUj"
      },
      "source": [
        "**All Time Sales Graph**"
      ]
    },
    {
      "cell_type": "code",
      "metadata": {
        "colab": {
          "base_uri": "https://localhost:8080/",
          "height": 272
        },
        "id": "RxxAVp0jmcR0",
        "outputId": "dd69fe5f-b978-49a0-b744-602e425d2690"
      },
      "source": [
        "trans_by_date = merge_value[\"Date\"].value_counts()\n",
        "all_time = trans_by_date[(trans_by_date.index >= pd.datetime(2018,7,1)) & (trans_by_date.index < pd.datetime(2019,6,30))].sort_index()\n",
        "all_time.index = all_time.index.strftime('%d')\n",
        "ax = all_time.plot(figsize=(15,3))\n",
        "ax.set_xticks(np.arange(len(all_time)))\n",
        "ax.set_xticklabels(all_time.index)\n",
        "plt.title(\"All Time Sales\")\n",
        "plt.savefig(\"All Times Sales.png\", bbox_inches=\"tight\")\n",
        "plt.show()"
      ],
      "execution_count": 20,
      "outputs": [
        {
          "output_type": "stream",
          "name": "stderr",
          "text": [
            "/usr/local/lib/python3.7/dist-packages/ipykernel_launcher.py:2: FutureWarning: The pandas.datetime class is deprecated and will be removed from pandas in a future version. Import from datetime module instead.\n",
            "  \n"
          ]
        },
        {
          "output_type": "display_data",
          "data": {
            "image/png": "[encoded data removed]",
            "text/plain": [
              "<Figure size 1080x216 with 1 Axes>"
            ]
          },
          "metadata": {
            "needs_background": "light"
          }
        }
      ]
    },
    {
      "cell_type": "markdown",
      "metadata": {
        "id": "QwGrvQdBnq1y"
      },
      "source": [
        "**December Sales Graph**"
      ]
    },
    {
      "cell_type": "code",
      "metadata": {
        "colab": {
          "base_uri": "https://localhost:8080/",
          "height": 272
        },
        "id": "OqmiRvU3obaY",
        "outputId": "516c5cf0-3ec9-4913-e316-41b879e2ce2b"
      },
      "source": [
        "trans_by_date = merge_value[\"Date\"].value_counts()\n",
        "dec = trans_by_date[(trans_by_date.index >= pd.datetime(2018,12,1)) & (trans_by_date.index < pd.datetime(2019,1,1))].sort_index()\n",
        "dec.index = dec.index.strftime('%d')\n",
        "ax = dec.plot(figsize=(15,3))\n",
        "ax.set_xticks(np.arange(len(dec)))\n",
        "ax.set_xticklabels(dec.index)\n",
        "plt.title(\"December Sales\")\n",
        "plt.savefig(\"December Sales.png\", bbox_inches=\"tight\")\n",
        "plt.show()"
      ],
      "execution_count": 21,
      "outputs": [
        {
          "output_type": "stream",
          "name": "stderr",
          "text": [
            "/usr/local/lib/python3.7/dist-packages/ipykernel_launcher.py:2: FutureWarning: The pandas.datetime class is deprecated and will be removed from pandas in a future version. Import from datetime module instead.\n",
            "  \n"
          ]
        },
        {
          "output_type": "display_data",
          "data": {
            "image/png": "[encoded data removed]",
            "text/plain": [
              "<Figure size 1080x216 with 1 Axes>"
            ]
          },
          "metadata": {
            "needs_background": "light"
          }
        }
      ]
    },
    {
      "cell_type": "markdown",
      "metadata": {
        "id": "owV2s4EZo80o"
      },
      "source": [
        "**Explore Product Pack Size**"
      ]
    },
    {
      "cell_type": "code",
      "metadata": {
        "colab": {
          "base_uri": "https://localhost:8080/"
        },
        "id": "S1QEuluWojQT",
        "outputId": "3c50116b-b095-4c37-ea6c-34d071294921"
      },
      "source": [
        "dataset[\"Product\"] = dataset[\"Product\"].str.replace(r\"[0-9]+(G)\", \"g\")\n",
        "pack_size = dataset[\"Product\"].str.extract(r\"([0-9]+[gG])\")[0].str.replace(\"g\", \"\").astype(\"float\")\n",
        "pack_size[0:4]"
      ],
      "execution_count": 22,
      "outputs": [
        {
          "output_type": "execute_result",
          "data": {
            "text/plain": [
              "0    175.0\n",
              "1    175.0\n",
              "2    170.0\n",
              "3    175.0\n",
              "Name: 0, dtype: float64"
            ]
          },
          "metadata": {},
          "execution_count": 22
        }
      ]
    },
    {
      "cell_type": "markdown",
      "metadata": {
        "id": "kZgVdOslpqsz"
      },
      "source": [
        "**Summary of Pack Size**"
      ]
    },
    {
      "cell_type": "code",
      "metadata": {
        "colab": {
          "base_uri": "https://localhost:8080/"
        },
        "id": "a-yzLBG0pm4-",
        "outputId": "e84ca78d-c7d9-4051-b7f2-f952bcfa2a8c"
      },
      "source": [
        "pack_size.describe()"
      ],
      "execution_count": 23,
      "outputs": [
        {
          "output_type": "execute_result",
          "data": {
            "text/plain": [
              "count    240676.000000\n",
              "mean        175.302286\n",
              "std          60.014468\n",
              "min          70.000000\n",
              "25%         150.000000\n",
              "50%         170.000000\n",
              "75%         175.000000\n",
              "max         380.000000\n",
              "Name: 0, dtype: float64"
            ]
          },
          "metadata": {},
          "execution_count": 23
        }
      ]
    },
    {
      "cell_type": "markdown",
      "metadata": {
        "id": "TXSBFLASpysC"
      },
      "source": [
        "**Histogram Showing Transaction Frequency of Pack Size**"
      ]
    },
    {
      "cell_type": "code",
      "metadata": {
        "colab": {
          "base_uri": "https://localhost:8080/",
          "height": 265
        },
        "id": "zUaFHEHjpwos",
        "outputId": "d80e6595-c447-4623-8c87-c07348317a8f"
      },
      "source": [
        "pack_size.plot.hist()\n",
        "plt.show()"
      ],
      "execution_count": 24,
      "outputs": [
        {
          "output_type": "display_data",
          "data": {
            "image/png": "[encoded data removed]",
            "text/plain": [
              "<Figure size 432x288 with 1 Axes>"
            ]
          },
          "metadata": {
            "needs_background": "light"
          }
        }
      ]
    },
    {
      "cell_type": "markdown",
      "metadata": {
        "id": "ezy2dbdqp6xK"
      },
      "source": [
        "**Frequency of Product Brand Names**"
      ]
    },
    {
      "cell_type": "code",
      "metadata": {
        "colab": {
          "base_uri": "https://localhost:8080/"
        },
        "id": "lp7IIxByp_R7",
        "outputId": "963e35b9-0161-4de0-e281-a12588c440d5"
      },
      "source": [
        "dataset[\"Product\"].str.split().str[0].value_counts()"
      ],
      "execution_count": 25,
      "outputs": [
        {
          "output_type": "execute_result",
          "data": {
            "text/plain": [
              "Kettle        41288\n",
              "Smiths        27390\n",
              "Pringles      25102\n",
              "Doritos       22041\n",
              "Thins         14075\n",
              "RRD           11894\n",
              "Infuzions     11057\n",
              "WW            10320\n",
              "Cobs           9693\n",
              "Tostitos       9471\n",
              "Twisties       9454\n",
              "Tyrrells       6442\n",
              "Grain          6272\n",
              "Natural        6050\n",
              "Cheezels       4603\n",
              "CCs            4551\n",
              "Red            4427\n",
              "Dorito         3183\n",
              "Infzns         3144\n",
              "Smith          2963\n",
              "Cheetos        2927\n",
              "Snbts          1576\n",
              "Burger         1564\n",
              "Woolworths     1516\n",
              "GrnWves        1468\n",
              "Sunbites       1432\n",
              "NCC            1419\n",
              "French         1418\n",
              "Name: Product, dtype: int64"
            ]
          },
          "metadata": {},
          "execution_count": 25
        }
      ]
    },
    {
      "cell_type": "markdown",
      "metadata": {
        "id": "m6KSi4fxqKSZ"
      },
      "source": [
        "**Include Brand Name Column**"
      ]
    },
    {
      "cell_type": "code",
      "metadata": {
        "colab": {
          "base_uri": "https://localhost:8080/",
          "height": 417
        },
        "id": "-jCktgJcqGl9",
        "outputId": "b0b2900d-d1ff-4083-d89d-52f9135adaea"
      },
      "source": [
        "dataset[\"Brand\"] = dataset[\"Product\"].str.split().str[0]\n",
        "dataset.head()"
      ],
      "execution_count": 26,
      "outputs": [
        {
          "output_type": "execute_result",
          "data": {
            "text/html": [
              "<div>\n",
              "<style scoped>\n",
              "    .dataframe tbody tr th:only-of-type {\n",
              "        vertical-align: middle;\n",
              "    }\n",
              "\n",
              "    .dataframe tbody tr th {\n",
              "        vertical-align: top;\n",
              "    }\n",
              "\n",
              "    .dataframe thead th {\n",
              "        text-align: right;\n",
              "    }\n",
              "</style>\n",
              "<table border=\"1\" class=\"dataframe\">\n",
              "  <thead>\n",
              "    <tr style=\"text-align: right;\">\n",
              "      <th></th>\n",
              "      <th>Date</th>\n",
              "      <th>Store Id</th>\n",
              "      <th>Card No</th>\n",
              "      <th>Transaction Id</th>\n",
              "      <th>Product Id</th>\n",
              "      <th>Product</th>\n",
              "      <th>Quantity</th>\n",
              "      <th>Sales</th>\n",
              "      <th>Group</th>\n",
              "      <th>Subcription</th>\n",
              "      <th>Brand</th>\n",
              "    </tr>\n",
              "  </thead>\n",
              "  <tbody>\n",
              "    <tr>\n",
              "      <th>0</th>\n",
              "      <td>2018-10-17</td>\n",
              "      <td>1</td>\n",
              "      <td>1000</td>\n",
              "      <td>1</td>\n",
              "      <td>5</td>\n",
              "      <td>Natural Chip        Compny SeaSalt175g</td>\n",
              "      <td>2</td>\n",
              "      <td>6.0</td>\n",
              "      <td>YOUNG SINGLES/COUPLES</td>\n",
              "      <td>Premium</td>\n",
              "      <td>Natural</td>\n",
              "    </tr>\n",
              "    <tr>\n",
              "      <th>1</th>\n",
              "      <td>2019-05-14</td>\n",
              "      <td>1</td>\n",
              "      <td>1307</td>\n",
              "      <td>348</td>\n",
              "      <td>66</td>\n",
              "      <td>CCs Nacho Cheese    175g</td>\n",
              "      <td>3</td>\n",
              "      <td>6.3</td>\n",
              "      <td>MIDAGE SINGLES/COUPLES</td>\n",
              "      <td>Budget</td>\n",
              "      <td>CCs</td>\n",
              "    </tr>\n",
              "    <tr>\n",
              "      <th>2</th>\n",
              "      <td>2019-05-20</td>\n",
              "      <td>1</td>\n",
              "      <td>1343</td>\n",
              "      <td>383</td>\n",
              "      <td>61</td>\n",
              "      <td>Smiths Crinkle Cut  Chips Chicken 170g</td>\n",
              "      <td>2</td>\n",
              "      <td>2.9</td>\n",
              "      <td>MIDAGE SINGLES/COUPLES</td>\n",
              "      <td>Budget</td>\n",
              "      <td>Smiths</td>\n",
              "    </tr>\n",
              "    <tr>\n",
              "      <th>3</th>\n",
              "      <td>2018-08-17</td>\n",
              "      <td>2</td>\n",
              "      <td>2373</td>\n",
              "      <td>974</td>\n",
              "      <td>69</td>\n",
              "      <td>Smiths Chip Thinly  S/Cream&amp;Onion 175g</td>\n",
              "      <td>5</td>\n",
              "      <td>15.0</td>\n",
              "      <td>MIDAGE SINGLES/COUPLES</td>\n",
              "      <td>Budget</td>\n",
              "      <td>Smiths</td>\n",
              "    </tr>\n",
              "    <tr>\n",
              "      <th>4</th>\n",
              "      <td>2018-08-18</td>\n",
              "      <td>2</td>\n",
              "      <td>2426</td>\n",
              "      <td>1038</td>\n",
              "      <td>108</td>\n",
              "      <td>Kettle Tortilla ChpsHny&amp;Jlpno Chili 150g</td>\n",
              "      <td>3</td>\n",
              "      <td>13.8</td>\n",
              "      <td>MIDAGE SINGLES/COUPLES</td>\n",
              "      <td>Budget</td>\n",
              "      <td>Kettle</td>\n",
              "    </tr>\n",
              "  </tbody>\n",
              "</table>\n",
              "</div>"
            ],
            "text/plain": [
              "        Date  Store Id  Card No  ...                   Group  Subcription    Brand\n",
              "0 2018-10-17         1     1000  ...   YOUNG SINGLES/COUPLES      Premium  Natural\n",
              "1 2019-05-14         1     1307  ...  MIDAGE SINGLES/COUPLES       Budget      CCs\n",
              "2 2019-05-20         1     1343  ...  MIDAGE SINGLES/COUPLES       Budget   Smiths\n",
              "3 2018-08-17         2     2373  ...  MIDAGE SINGLES/COUPLES       Budget   Smiths\n",
              "4 2018-08-18         2     2426  ...  MIDAGE SINGLES/COUPLES       Budget   Kettle\n",
              "\n",
              "[5 rows x 11 columns]"
            ]
          },
          "metadata": {},
          "execution_count": 26
        }
      ]
    },
    {
      "cell_type": "markdown",
      "metadata": {
        "id": "81MdaBuPqUIn"
      },
      "source": [
        "**Combine Same Brands**"
      ]
    },
    {
      "cell_type": "code",
      "metadata": {
        "id": "liBtWVxLqTER"
      },
      "source": [
        "def clean_brand_names(line):\n",
        "  brand = line[\"Brand\"]\n",
        "  if brand == \"Dorito\":\n",
        "    return \"Doritos\"\n",
        "  elif brand == \"GrnWves\" or brand == \"Grain\":\n",
        "    return \"Grain Waves\"\n",
        "  elif brand == \"Natural\" or brand == \"NCC\":\n",
        "    return \"Natural Chip Co\"\n",
        "  elif brand == \"Infzns\":\n",
        "    return \"Infuzions\"\n",
        "  elif brand == \"Red\":\n",
        "    return \"RRD\"\n",
        "  elif brand == \"Smith\":\n",
        "    return \"Smiths\"\n",
        "  elif brand == \"Snbts\":\n",
        "    return \"Sunbites\"\n",
        "  elif brand == \"WW\":\n",
        "    return \"Woolworths\"\n",
        "  else:\n",
        "    return brand\n"
      ],
      "execution_count": 27,
      "outputs": []
    },
    {
      "cell_type": "markdown",
      "metadata": {
        "id": "mkrq0a_nrY0l"
      },
      "source": [
        "**Cleaned Transactional Data**"
      ]
    },
    {
      "cell_type": "code",
      "metadata": {
        "colab": {
          "base_uri": "https://localhost:8080/",
          "height": 417
        },
        "id": "ORjlrFm3rSUt",
        "outputId": "18501a53-b4e5-4dff-9eff-3b3c0f1d35a4"
      },
      "source": [
        "dataset[\"Brand\"] = dataset.apply(lambda line: clean_brand_names(line), axis=1)\n",
        "dataset.head()"
      ],
      "execution_count": 28,
      "outputs": [
        {
          "output_type": "execute_result",
          "data": {
            "text/html": [
              "<div>\n",
              "<style scoped>\n",
              "    .dataframe tbody tr th:only-of-type {\n",
              "        vertical-align: middle;\n",
              "    }\n",
              "\n",
              "    .dataframe tbody tr th {\n",
              "        vertical-align: top;\n",
              "    }\n",
              "\n",
              "    .dataframe thead th {\n",
              "        text-align: right;\n",
              "    }\n",
              "</style>\n",
              "<table border=\"1\" class=\"dataframe\">\n",
              "  <thead>\n",
              "    <tr style=\"text-align: right;\">\n",
              "      <th></th>\n",
              "      <th>Date</th>\n",
              "      <th>Store Id</th>\n",
              "      <th>Card No</th>\n",
              "      <th>Transaction Id</th>\n",
              "      <th>Product Id</th>\n",
              "      <th>Product</th>\n",
              "      <th>Quantity</th>\n",
              "      <th>Sales</th>\n",
              "      <th>Group</th>\n",
              "      <th>Subcription</th>\n",
              "      <th>Brand</th>\n",
              "    </tr>\n",
              "  </thead>\n",
              "  <tbody>\n",
              "    <tr>\n",
              "      <th>0</th>\n",
              "      <td>2018-10-17</td>\n",
              "      <td>1</td>\n",
              "      <td>1000</td>\n",
              "      <td>1</td>\n",
              "      <td>5</td>\n",
              "      <td>Natural Chip        Compny SeaSalt175g</td>\n",
              "      <td>2</td>\n",
              "      <td>6.0</td>\n",
              "      <td>YOUNG SINGLES/COUPLES</td>\n",
              "      <td>Premium</td>\n",
              "      <td>Natural Chip Co</td>\n",
              "    </tr>\n",
              "    <tr>\n",
              "      <th>1</th>\n",
              "      <td>2019-05-14</td>\n",
              "      <td>1</td>\n",
              "      <td>1307</td>\n",
              "      <td>348</td>\n",
              "      <td>66</td>\n",
              "      <td>CCs Nacho Cheese    175g</td>\n",
              "      <td>3</td>\n",
              "      <td>6.3</td>\n",
              "      <td>MIDAGE SINGLES/COUPLES</td>\n",
              "      <td>Budget</td>\n",
              "      <td>CCs</td>\n",
              "    </tr>\n",
              "    <tr>\n",
              "      <th>2</th>\n",
              "      <td>2019-05-20</td>\n",
              "      <td>1</td>\n",
              "      <td>1343</td>\n",
              "      <td>383</td>\n",
              "      <td>61</td>\n",
              "      <td>Smiths Crinkle Cut  Chips Chicken 170g</td>\n",
              "      <td>2</td>\n",
              "      <td>2.9</td>\n",
              "      <td>MIDAGE SINGLES/COUPLES</td>\n",
              "      <td>Budget</td>\n",
              "      <td>Smiths</td>\n",
              "    </tr>\n",
              "    <tr>\n",
              "      <th>3</th>\n",
              "      <td>2018-08-17</td>\n",
              "      <td>2</td>\n",
              "      <td>2373</td>\n",
              "      <td>974</td>\n",
              "      <td>69</td>\n",
              "      <td>Smiths Chip Thinly  S/Cream&amp;Onion 175g</td>\n",
              "      <td>5</td>\n",
              "      <td>15.0</td>\n",
              "      <td>MIDAGE SINGLES/COUPLES</td>\n",
              "      <td>Budget</td>\n",
              "      <td>Smiths</td>\n",
              "    </tr>\n",
              "    <tr>\n",
              "      <th>4</th>\n",
              "      <td>2018-08-18</td>\n",
              "      <td>2</td>\n",
              "      <td>2426</td>\n",
              "      <td>1038</td>\n",
              "      <td>108</td>\n",
              "      <td>Kettle Tortilla ChpsHny&amp;Jlpno Chili 150g</td>\n",
              "      <td>3</td>\n",
              "      <td>13.8</td>\n",
              "      <td>MIDAGE SINGLES/COUPLES</td>\n",
              "      <td>Budget</td>\n",
              "      <td>Kettle</td>\n",
              "    </tr>\n",
              "  </tbody>\n",
              "</table>\n",
              "</div>"
            ],
            "text/plain": [
              "        Date  Store Id  ...  Subcription            Brand\n",
              "0 2018-10-17         1  ...      Premium  Natural Chip Co\n",
              "1 2019-05-14         1  ...       Budget              CCs\n",
              "2 2019-05-20         1  ...       Budget           Smiths\n",
              "3 2018-08-17         2  ...       Budget           Smiths\n",
              "4 2018-08-18         2  ...       Budget           Kettle\n",
              "\n",
              "[5 rows x 11 columns]"
            ]
          },
          "metadata": {},
          "execution_count": 28
        }
      ]
    },
    {
      "cell_type": "markdown",
      "metadata": {
        "id": "tnlHcHl_rrX3"
      },
      "source": [
        "**Histogram of Brand Frequency**"
      ]
    },
    {
      "cell_type": "code",
      "metadata": {
        "colab": {
          "base_uri": "https://localhost:8080/",
          "height": 320
        },
        "id": "XWCMvFx9rqv_",
        "outputId": "c2e10353-231c-4886-a125-78e1c708afc5"
      },
      "source": [
        "dataset[\"Brand\"].value_counts(ascending = True).plot.barh(figsize = (10 ,5))\n",
        "plt.show()"
      ],
      "execution_count": 29,
      "outputs": [
        {
          "output_type": "display_data",
          "data": {
            "image/png": "[encoded data removed]",
            "text/plain": [
              "<Figure size 720x360 with 1 Axes>"
            ]
          },
          "metadata": {
            "needs_background": "light"
          }
        }
      ]
    },
    {
      "cell_type": "markdown",
      "metadata": {
        "id": "WsLv1ad1sGKl"
      },
      "source": [
        "# **Data Analysis**"
      ]
    },
    {
      "cell_type": "markdown",
      "metadata": {
        "id": "BAdZkC_rsOiV"
      },
      "source": [
        "**ENG**\n",
        "\n",
        "1.   Who Spends the most on chips (total sales), describing customers by lifestage and how premium their general purchasing behavior is\n",
        "2.   How many customers are in each segment\n",
        "3.   How many chips are bought per customer by segment\n",
        "4.   Whats the average chip price by customer segment\n",
        "\n"
      ]
    },
    {
      "cell_type": "markdown",
      "metadata": {
        "id": "7TZT2XRDsv3x"
      },
      "source": [
        "**IND**\n",
        "\n",
        "1.   Siapa yang Menghabiskan paling banyak untuk chip (penjualan total), menggambarkan pelanggan berdasarkan tahap kehidupan dan seberapa premium perilaku pembelian umum mereka\n",
        "2.   Berapa banyak pelanggan di setiap segmen?\n",
        "3.   Berapa banyak chip yang dibeli per pelanggan berdasarkan segmen\n",
        "4.   Berapa harga rata-rata chip menurut segmen pelanggan?\n",
        "\n"
      ]
    },
    {
      "cell_type": "markdown",
      "metadata": {
        "id": "Tr0D-h4ttHLB"
      },
      "source": [
        "**Who Spends the most on chips (total sales), describing customers by lifestage and how premium their general purchasing behavior is**"
      ]
    },
    {
      "cell_type": "code",
      "metadata": {
        "colab": {
          "base_uri": "https://localhost:8080/",
          "height": 739
        },
        "id": "ooK74HnDr7DG",
        "outputId": "fb940e2a-963f-454f-ea8c-c544e4a64698"
      },
      "source": [
        "most_shopping = dataset.groupby([\"Group\", \"Subcription\"])[\"Sales\"].agg([\"sum\"]).sort_values(ascending = False, by =\"sum\")\n",
        "most_shopping"
      ],
      "execution_count": 30,
      "outputs": [
        {
          "output_type": "execute_result",
          "data": {
            "text/html": [
              "<div>\n",
              "<style scoped>\n",
              "    .dataframe tbody tr th:only-of-type {\n",
              "        vertical-align: middle;\n",
              "    }\n",
              "\n",
              "    .dataframe tbody tr th {\n",
              "        vertical-align: top;\n",
              "    }\n",
              "\n",
              "    .dataframe thead th {\n",
              "        text-align: right;\n",
              "    }\n",
              "</style>\n",
              "<table border=\"1\" class=\"dataframe\">\n",
              "  <thead>\n",
              "    <tr style=\"text-align: right;\">\n",
              "      <th></th>\n",
              "      <th></th>\n",
              "      <th>sum</th>\n",
              "    </tr>\n",
              "    <tr>\n",
              "      <th>Group</th>\n",
              "      <th>Subcription</th>\n",
              "      <th></th>\n",
              "    </tr>\n",
              "  </thead>\n",
              "  <tbody>\n",
              "    <tr>\n",
              "      <th>OLDER FAMILIES</th>\n",
              "      <th>Budget</th>\n",
              "      <td>156863.75</td>\n",
              "    </tr>\n",
              "    <tr>\n",
              "      <th>YOUNG SINGLES/COUPLES</th>\n",
              "      <th>Mainstream</th>\n",
              "      <td>147582.20</td>\n",
              "    </tr>\n",
              "    <tr>\n",
              "      <th>RETIREES</th>\n",
              "      <th>Mainstream</th>\n",
              "      <td>145168.95</td>\n",
              "    </tr>\n",
              "    <tr>\n",
              "      <th>YOUNG FAMILIES</th>\n",
              "      <th>Budget</th>\n",
              "      <td>129717.95</td>\n",
              "    </tr>\n",
              "    <tr>\n",
              "      <th rowspan=\"3\" valign=\"top\">OLDER SINGLES/COUPLES</th>\n",
              "      <th>Budget</th>\n",
              "      <td>127833.60</td>\n",
              "    </tr>\n",
              "    <tr>\n",
              "      <th>Mainstream</th>\n",
              "      <td>124648.50</td>\n",
              "    </tr>\n",
              "    <tr>\n",
              "      <th>Premium</th>\n",
              "      <td>123537.55</td>\n",
              "    </tr>\n",
              "    <tr>\n",
              "      <th>RETIREES</th>\n",
              "      <th>Budget</th>\n",
              "      <td>105916.30</td>\n",
              "    </tr>\n",
              "    <tr>\n",
              "      <th>OLDER FAMILIES</th>\n",
              "      <th>Mainstream</th>\n",
              "      <td>96413.55</td>\n",
              "    </tr>\n",
              "    <tr>\n",
              "      <th>RETIREES</th>\n",
              "      <th>Premium</th>\n",
              "      <td>91296.65</td>\n",
              "    </tr>\n",
              "    <tr>\n",
              "      <th>YOUNG FAMILIES</th>\n",
              "      <th>Mainstream</th>\n",
              "      <td>86338.25</td>\n",
              "    </tr>\n",
              "    <tr>\n",
              "      <th>MIDAGE SINGLES/COUPLES</th>\n",
              "      <th>Mainstream</th>\n",
              "      <td>84734.25</td>\n",
              "    </tr>\n",
              "    <tr>\n",
              "      <th>YOUNG FAMILIES</th>\n",
              "      <th>Premium</th>\n",
              "      <td>78571.70</td>\n",
              "    </tr>\n",
              "    <tr>\n",
              "      <th>OLDER FAMILIES</th>\n",
              "      <th>Premium</th>\n",
              "      <td>75242.60</td>\n",
              "    </tr>\n",
              "    <tr>\n",
              "      <th>YOUNG SINGLES/COUPLES</th>\n",
              "      <th>Budget</th>\n",
              "      <td>57122.10</td>\n",
              "    </tr>\n",
              "    <tr>\n",
              "      <th>MIDAGE SINGLES/COUPLES</th>\n",
              "      <th>Premium</th>\n",
              "      <td>54443.85</td>\n",
              "    </tr>\n",
              "    <tr>\n",
              "      <th>YOUNG SINGLES/COUPLES</th>\n",
              "      <th>Premium</th>\n",
              "      <td>39052.30</td>\n",
              "    </tr>\n",
              "    <tr>\n",
              "      <th>MIDAGE SINGLES/COUPLES</th>\n",
              "      <th>Budget</th>\n",
              "      <td>33345.70</td>\n",
              "    </tr>\n",
              "    <tr>\n",
              "      <th rowspan=\"3\" valign=\"top\">NEW FAMILIES</th>\n",
              "      <th>Budget</th>\n",
              "      <td>20607.45</td>\n",
              "    </tr>\n",
              "    <tr>\n",
              "      <th>Mainstream</th>\n",
              "      <td>15979.70</td>\n",
              "    </tr>\n",
              "    <tr>\n",
              "      <th>Premium</th>\n",
              "      <td>10760.80</td>\n",
              "    </tr>\n",
              "  </tbody>\n",
              "</table>\n",
              "</div>"
            ],
            "text/plain": [
              "                                          sum\n",
              "Group                  Subcription           \n",
              "OLDER FAMILIES         Budget       156863.75\n",
              "YOUNG SINGLES/COUPLES  Mainstream   147582.20\n",
              "RETIREES               Mainstream   145168.95\n",
              "YOUNG FAMILIES         Budget       129717.95\n",
              "OLDER SINGLES/COUPLES  Budget       127833.60\n",
              "                       Mainstream   124648.50\n",
              "                       Premium      123537.55\n",
              "RETIREES               Budget       105916.30\n",
              "OLDER FAMILIES         Mainstream    96413.55\n",
              "RETIREES               Premium       91296.65\n",
              "YOUNG FAMILIES         Mainstream    86338.25\n",
              "MIDAGE SINGLES/COUPLES Mainstream    84734.25\n",
              "YOUNG FAMILIES         Premium       78571.70\n",
              "OLDER FAMILIES         Premium       75242.60\n",
              "YOUNG SINGLES/COUPLES  Budget        57122.10\n",
              "MIDAGE SINGLES/COUPLES Premium       54443.85\n",
              "YOUNG SINGLES/COUPLES  Premium       39052.30\n",
              "MIDAGE SINGLES/COUPLES Budget        33345.70\n",
              "NEW FAMILIES           Budget        20607.45\n",
              "                       Mainstream    15979.70\n",
              "                       Premium       10760.80"
            ]
          },
          "metadata": {},
          "execution_count": 30
        }
      ]
    },
    {
      "cell_type": "markdown",
      "metadata": {
        "id": "PSKZu8lBtjIn"
      },
      "source": [
        "**Histogram of Customer Segments contibute to Chip Sales**"
      ]
    },
    {
      "cell_type": "code",
      "metadata": {
        "colab": {
          "base_uri": "https://localhost:8080/",
          "height": 394
        },
        "id": "tSByyIrNtdBO",
        "outputId": "9aa2ac5f-99f6-4000-9974-8b07ce6e2ef6"
      },
      "source": [
        "most_shopping[\"sum\"].sort_values().plot.barh(figsize = (12,7))\n",
        "plt.show()"
      ],
      "execution_count": 31,
      "outputs": [
        {
          "output_type": "display_data",
          "data": {
            "image/png": "[encoded data removed]",
            "text/plain": [
              "<Figure size 864x504 with 1 Axes>"
            ]
          },
          "metadata": {
            "needs_background": "light"
          }
        }
      ]
    },
    {
      "cell_type": "markdown",
      "metadata": {
        "id": "c10McN7utzSM"
      },
      "source": [
        "**Top Total Sales Contributor Segment are**\n",
        "\n",
        "\n",
        "1.   Older Families (budget) 156,864 dollar\n",
        "2.   Young Singles,Couples (Mainstream) 147,582 dollar\n",
        "3.   Retirees (Mainstream) 145,169 dollar\n",
        "\n"
      ]
    },
    {
      "cell_type": "markdown",
      "metadata": {
        "id": "LDv0-1-buWvi"
      },
      "source": [
        "**Top Shopping per Group by Subcriptopn**"
      ]
    },
    {
      "cell_type": "code",
      "metadata": {
        "colab": {
          "base_uri": "https://localhost:8080/"
        },
        "id": "wxJ1jRlftwKK",
        "outputId": "7489bc15-820f-42b8-fef5-660079c96b88"
      },
      "source": [
        "stage_agg_prem = dataset.groupby(\"Group\")[\"Subcription\"].agg(pd.Series.mode).sort_values()\n",
        "print(\"Top Shopping per Group by Subcriptopn\")\n",
        "print(stage_agg_prem)"
      ],
      "execution_count": 32,
      "outputs": [
        {
          "output_type": "stream",
          "name": "stdout",
          "text": [
            "Top Shopping per Group by Subcriptopn\n",
            "Group\n",
            "NEW FAMILIES                  Budget\n",
            "OLDER FAMILIES                Budget\n",
            "OLDER SINGLES/COUPLES         Budget\n",
            "YOUNG FAMILIES                Budget\n",
            "MIDAGE SINGLES/COUPLES    Mainstream\n",
            "RETIREES                  Mainstream\n",
            "YOUNG SINGLES/COUPLES     Mainstream\n",
            "Name: Subcription, dtype: object\n"
          ]
        }
      ]
    },
    {
      "cell_type": "markdown",
      "metadata": {
        "id": "lMfqw5qqvB0K"
      },
      "source": [
        "**How Many Customers are in each segment**"
      ]
    },
    {
      "cell_type": "code",
      "metadata": {
        "colab": {
          "base_uri": "https://localhost:8080/",
          "height": 739
        },
        "id": "Ag6iGFj4u-1h",
        "outputId": "dbd8fbaa-eeea-41d8-d2cd-1f87f1596e78"
      },
      "source": [
        "cust_seg = dataset.groupby([\"Group\", \"Subcription\"])[\"Card No\"].nunique().sort_values(ascending = False)\n",
        "pd.DataFrame(cust_seg)"
      ],
      "execution_count": 33,
      "outputs": [
        {
          "output_type": "execute_result",
          "data": {
            "text/html": [
              "<div>\n",
              "<style scoped>\n",
              "    .dataframe tbody tr th:only-of-type {\n",
              "        vertical-align: middle;\n",
              "    }\n",
              "\n",
              "    .dataframe tbody tr th {\n",
              "        vertical-align: top;\n",
              "    }\n",
              "\n",
              "    .dataframe thead th {\n",
              "        text-align: right;\n",
              "    }\n",
              "</style>\n",
              "<table border=\"1\" class=\"dataframe\">\n",
              "  <thead>\n",
              "    <tr style=\"text-align: right;\">\n",
              "      <th></th>\n",
              "      <th></th>\n",
              "      <th>Card No</th>\n",
              "    </tr>\n",
              "    <tr>\n",
              "      <th>Group</th>\n",
              "      <th>Subcription</th>\n",
              "      <th></th>\n",
              "    </tr>\n",
              "  </thead>\n",
              "  <tbody>\n",
              "    <tr>\n",
              "      <th>YOUNG SINGLES/COUPLES</th>\n",
              "      <th>Mainstream</th>\n",
              "      <td>7917</td>\n",
              "    </tr>\n",
              "    <tr>\n",
              "      <th>RETIREES</th>\n",
              "      <th>Mainstream</th>\n",
              "      <td>6358</td>\n",
              "    </tr>\n",
              "    <tr>\n",
              "      <th rowspan=\"3\" valign=\"top\">OLDER SINGLES/COUPLES</th>\n",
              "      <th>Mainstream</th>\n",
              "      <td>4858</td>\n",
              "    </tr>\n",
              "    <tr>\n",
              "      <th>Budget</th>\n",
              "      <td>4849</td>\n",
              "    </tr>\n",
              "    <tr>\n",
              "      <th>Premium</th>\n",
              "      <td>4682</td>\n",
              "    </tr>\n",
              "    <tr>\n",
              "      <th>OLDER FAMILIES</th>\n",
              "      <th>Budget</th>\n",
              "      <td>4611</td>\n",
              "    </tr>\n",
              "    <tr>\n",
              "      <th>RETIREES</th>\n",
              "      <th>Budget</th>\n",
              "      <td>4385</td>\n",
              "    </tr>\n",
              "    <tr>\n",
              "      <th>YOUNG FAMILIES</th>\n",
              "      <th>Budget</th>\n",
              "      <td>3953</td>\n",
              "    </tr>\n",
              "    <tr>\n",
              "      <th>RETIREES</th>\n",
              "      <th>Premium</th>\n",
              "      <td>3812</td>\n",
              "    </tr>\n",
              "    <tr>\n",
              "      <th>YOUNG SINGLES/COUPLES</th>\n",
              "      <th>Budget</th>\n",
              "      <td>3647</td>\n",
              "    </tr>\n",
              "    <tr>\n",
              "      <th>MIDAGE SINGLES/COUPLES</th>\n",
              "      <th>Mainstream</th>\n",
              "      <td>3298</td>\n",
              "    </tr>\n",
              "    <tr>\n",
              "      <th>OLDER FAMILIES</th>\n",
              "      <th>Mainstream</th>\n",
              "      <td>2788</td>\n",
              "    </tr>\n",
              "    <tr>\n",
              "      <th>YOUNG FAMILIES</th>\n",
              "      <th>Mainstream</th>\n",
              "      <td>2685</td>\n",
              "    </tr>\n",
              "    <tr>\n",
              "      <th>YOUNG SINGLES/COUPLES</th>\n",
              "      <th>Premium</th>\n",
              "      <td>2480</td>\n",
              "    </tr>\n",
              "    <tr>\n",
              "      <th>YOUNG FAMILIES</th>\n",
              "      <th>Premium</th>\n",
              "      <td>2398</td>\n",
              "    </tr>\n",
              "    <tr>\n",
              "      <th>MIDAGE SINGLES/COUPLES</th>\n",
              "      <th>Premium</th>\n",
              "      <td>2369</td>\n",
              "    </tr>\n",
              "    <tr>\n",
              "      <th>OLDER FAMILIES</th>\n",
              "      <th>Premium</th>\n",
              "      <td>2231</td>\n",
              "    </tr>\n",
              "    <tr>\n",
              "      <th>MIDAGE SINGLES/COUPLES</th>\n",
              "      <th>Budget</th>\n",
              "      <td>1474</td>\n",
              "    </tr>\n",
              "    <tr>\n",
              "      <th rowspan=\"3\" valign=\"top\">NEW FAMILIES</th>\n",
              "      <th>Budget</th>\n",
              "      <td>1087</td>\n",
              "    </tr>\n",
              "    <tr>\n",
              "      <th>Mainstream</th>\n",
              "      <td>830</td>\n",
              "    </tr>\n",
              "    <tr>\n",
              "      <th>Premium</th>\n",
              "      <td>575</td>\n",
              "    </tr>\n",
              "  </tbody>\n",
              "</table>\n",
              "</div>"
            ],
            "text/plain": [
              "                                    Card No\n",
              "Group                  Subcription         \n",
              "YOUNG SINGLES/COUPLES  Mainstream      7917\n",
              "RETIREES               Mainstream      6358\n",
              "OLDER SINGLES/COUPLES  Mainstream      4858\n",
              "                       Budget          4849\n",
              "                       Premium         4682\n",
              "OLDER FAMILIES         Budget          4611\n",
              "RETIREES               Budget          4385\n",
              "YOUNG FAMILIES         Budget          3953\n",
              "RETIREES               Premium         3812\n",
              "YOUNG SINGLES/COUPLES  Budget          3647\n",
              "MIDAGE SINGLES/COUPLES Mainstream      3298\n",
              "OLDER FAMILIES         Mainstream      2788\n",
              "YOUNG FAMILIES         Mainstream      2685\n",
              "YOUNG SINGLES/COUPLES  Premium         2480\n",
              "YOUNG FAMILIES         Premium         2398\n",
              "MIDAGE SINGLES/COUPLES Premium         2369\n",
              "OLDER FAMILIES         Premium         2231\n",
              "MIDAGE SINGLES/COUPLES Budget          1474\n",
              "NEW FAMILIES           Budget          1087\n",
              "                       Mainstream       830\n",
              "                       Premium          575"
            ]
          },
          "metadata": {},
          "execution_count": 33
        }
      ]
    },
    {
      "cell_type": "markdown",
      "metadata": {
        "id": "COw4gD7DvjwK"
      },
      "source": [
        "**Histogram of Customer Segments Frequency**"
      ]
    },
    {
      "cell_type": "code",
      "metadata": {
        "colab": {
          "base_uri": "https://localhost:8080/",
          "height": 394
        },
        "id": "RBtvawlPvczP",
        "outputId": "1133707a-2996-4bc4-e081-53f25b8d43d8"
      },
      "source": [
        "cust_seg.sort_values().plot.barh(figsize = (12,7))\n",
        "plt.show() "
      ],
      "execution_count": 34,
      "outputs": [
        {
          "output_type": "display_data",
          "data": {
            "image/png": "[encoded data removed]",
            "text/plain": [
              "<Figure size 864x504 with 1 Axes>"
            ]
          },
          "metadata": {
            "needs_background": "light"
          }
        }
      ]
    },
    {
      "cell_type": "markdown",
      "metadata": {
        "id": "xXBuJjqfvyCY"
      },
      "source": [
        "\n",
        "\n",
        "*   Young Singles/Couples (Mainstream) has the highest population, followed by Retires(Mainstream), Which Explains their high total sales\n",
        "\n"
      ]
    },
    {
      "cell_type": "markdown",
      "metadata": {
        "id": "3oj9gw64wGQb"
      },
      "source": [
        "**How Many Chips Are brought per Customer by segment**"
      ]
    },
    {
      "cell_type": "code",
      "metadata": {
        "colab": {
          "base_uri": "https://localhost:8080/",
          "height": 455
        },
        "id": "oqOVANG0vtlZ",
        "outputId": "d8ef399d-8f74-4cd7-9ae0-257831bf21c6"
      },
      "source": [
        "# Individual Customer Chips Shopping by Date\n",
        "chips_shop_per_segment = dataset.groupby([\"Card No\", \"Group\", \"Subcription\"]).count()[\"Date\"]\n",
        "chips_shop_per_segment.to_frame()"
      ],
      "execution_count": 35,
      "outputs": [
        {
          "output_type": "execute_result",
          "data": {
            "text/html": [
              "<div>\n",
              "<style scoped>\n",
              "    .dataframe tbody tr th:only-of-type {\n",
              "        vertical-align: middle;\n",
              "    }\n",
              "\n",
              "    .dataframe tbody tr th {\n",
              "        vertical-align: top;\n",
              "    }\n",
              "\n",
              "    .dataframe thead th {\n",
              "        text-align: right;\n",
              "    }\n",
              "</style>\n",
              "<table border=\"1\" class=\"dataframe\">\n",
              "  <thead>\n",
              "    <tr style=\"text-align: right;\">\n",
              "      <th></th>\n",
              "      <th></th>\n",
              "      <th></th>\n",
              "      <th>Date</th>\n",
              "    </tr>\n",
              "    <tr>\n",
              "      <th>Card No</th>\n",
              "      <th>Group</th>\n",
              "      <th>Subcription</th>\n",
              "      <th></th>\n",
              "    </tr>\n",
              "  </thead>\n",
              "  <tbody>\n",
              "    <tr>\n",
              "      <th>1000</th>\n",
              "      <th>YOUNG SINGLES/COUPLES</th>\n",
              "      <th>Premium</th>\n",
              "      <td>1</td>\n",
              "    </tr>\n",
              "    <tr>\n",
              "      <th>1002</th>\n",
              "      <th>YOUNG SINGLES/COUPLES</th>\n",
              "      <th>Mainstream</th>\n",
              "      <td>1</td>\n",
              "    </tr>\n",
              "    <tr>\n",
              "      <th>1003</th>\n",
              "      <th>YOUNG FAMILIES</th>\n",
              "      <th>Budget</th>\n",
              "      <td>2</td>\n",
              "    </tr>\n",
              "    <tr>\n",
              "      <th>1004</th>\n",
              "      <th>OLDER SINGLES/COUPLES</th>\n",
              "      <th>Mainstream</th>\n",
              "      <td>1</td>\n",
              "    </tr>\n",
              "    <tr>\n",
              "      <th>1005</th>\n",
              "      <th>MIDAGE SINGLES/COUPLES</th>\n",
              "      <th>Mainstream</th>\n",
              "      <td>1</td>\n",
              "    </tr>\n",
              "    <tr>\n",
              "      <th>...</th>\n",
              "      <th>...</th>\n",
              "      <th>...</th>\n",
              "      <td>...</td>\n",
              "    </tr>\n",
              "    <tr>\n",
              "      <th>2370651</th>\n",
              "      <th>MIDAGE SINGLES/COUPLES</th>\n",
              "      <th>Mainstream</th>\n",
              "      <td>1</td>\n",
              "    </tr>\n",
              "    <tr>\n",
              "      <th>2370701</th>\n",
              "      <th>YOUNG FAMILIES</th>\n",
              "      <th>Mainstream</th>\n",
              "      <td>1</td>\n",
              "    </tr>\n",
              "    <tr>\n",
              "      <th>2370751</th>\n",
              "      <th>YOUNG FAMILIES</th>\n",
              "      <th>Premium</th>\n",
              "      <td>1</td>\n",
              "    </tr>\n",
              "    <tr>\n",
              "      <th>2370961</th>\n",
              "      <th>OLDER FAMILIES</th>\n",
              "      <th>Budget</th>\n",
              "      <td>1</td>\n",
              "    </tr>\n",
              "    <tr>\n",
              "      <th>2373711</th>\n",
              "      <th>YOUNG SINGLES/COUPLES</th>\n",
              "      <th>Mainstream</th>\n",
              "      <td>1</td>\n",
              "    </tr>\n",
              "  </tbody>\n",
              "</table>\n",
              "<p>71287 rows × 1 columns</p>\n",
              "</div>"
            ],
            "text/plain": [
              "                                            Date\n",
              "Card No Group                  Subcription      \n",
              "1000    YOUNG SINGLES/COUPLES  Premium         1\n",
              "1002    YOUNG SINGLES/COUPLES  Mainstream      1\n",
              "1003    YOUNG FAMILIES         Budget          2\n",
              "1004    OLDER SINGLES/COUPLES  Mainstream      1\n",
              "1005    MIDAGE SINGLES/COUPLES Mainstream      1\n",
              "...                                          ...\n",
              "2370651 MIDAGE SINGLES/COUPLES Mainstream      1\n",
              "2370701 YOUNG FAMILIES         Mainstream      1\n",
              "2370751 YOUNG FAMILIES         Premium         1\n",
              "2370961 OLDER FAMILIES         Budget          1\n",
              "2373711 YOUNG SINGLES/COUPLES  Mainstream      1\n",
              "\n",
              "[71287 rows x 1 columns]"
            ]
          },
          "metadata": {},
          "execution_count": 35
        }
      ]
    },
    {
      "cell_type": "code",
      "metadata": {
        "colab": {
          "base_uri": "https://localhost:8080/",
          "height": 739
        },
        "id": "THBN35d0wNxZ",
        "outputId": "c5f68fb5-5ec4-4dcc-84a4-eea127d64d58"
      },
      "source": [
        "#Chips Shopping from groups by individual (avg)\n",
        "segment_shop_chips = chips_shop_per_segment.groupby([\"Group\", \"Subcription\"]).agg([\"mean\"]).sort_values(ascending = False, by = \"mean\")\n",
        "segment_shop_chips"
      ],
      "execution_count": 36,
      "outputs": [
        {
          "output_type": "execute_result",
          "data": {
            "text/html": [
              "<div>\n",
              "<style scoped>\n",
              "    .dataframe tbody tr th:only-of-type {\n",
              "        vertical-align: middle;\n",
              "    }\n",
              "\n",
              "    .dataframe tbody tr th {\n",
              "        vertical-align: top;\n",
              "    }\n",
              "\n",
              "    .dataframe thead th {\n",
              "        text-align: right;\n",
              "    }\n",
              "</style>\n",
              "<table border=\"1\" class=\"dataframe\">\n",
              "  <thead>\n",
              "    <tr style=\"text-align: right;\">\n",
              "      <th></th>\n",
              "      <th></th>\n",
              "      <th>mean</th>\n",
              "    </tr>\n",
              "    <tr>\n",
              "      <th>Group</th>\n",
              "      <th>Subcription</th>\n",
              "      <th></th>\n",
              "    </tr>\n",
              "  </thead>\n",
              "  <tbody>\n",
              "    <tr>\n",
              "      <th rowspan=\"3\" valign=\"top\">OLDER FAMILIES</th>\n",
              "      <th>Mainstream</th>\n",
              "      <td>4.749283</td>\n",
              "    </tr>\n",
              "    <tr>\n",
              "      <th>Budget</th>\n",
              "      <td>4.665799</td>\n",
              "    </tr>\n",
              "    <tr>\n",
              "      <th>Premium</th>\n",
              "      <td>4.662931</td>\n",
              "    </tr>\n",
              "    <tr>\n",
              "      <th rowspan=\"3\" valign=\"top\">YOUNG FAMILIES</th>\n",
              "      <th>Premium</th>\n",
              "      <td>4.497081</td>\n",
              "    </tr>\n",
              "    <tr>\n",
              "      <th>Budget</th>\n",
              "      <td>4.493549</td>\n",
              "    </tr>\n",
              "    <tr>\n",
              "      <th>Mainstream</th>\n",
              "      <td>4.449534</td>\n",
              "    </tr>\n",
              "    <tr>\n",
              "      <th rowspan=\"3\" valign=\"top\">OLDER SINGLES/COUPLES</th>\n",
              "      <th>Budget</th>\n",
              "      <td>3.541349</td>\n",
              "    </tr>\n",
              "    <tr>\n",
              "      <th>Premium</th>\n",
              "      <td>3.536950</td>\n",
              "    </tr>\n",
              "    <tr>\n",
              "      <th>Mainstream</th>\n",
              "      <td>3.511939</td>\n",
              "    </tr>\n",
              "    <tr>\n",
              "      <th>MIDAGE SINGLES/COUPLES</th>\n",
              "      <th>Mainstream</th>\n",
              "      <td>3.364160</td>\n",
              "    </tr>\n",
              "    <tr>\n",
              "      <th>RETIREES</th>\n",
              "      <th>Budget</th>\n",
              "      <td>3.244014</td>\n",
              "    </tr>\n",
              "    <tr>\n",
              "      <th>MIDAGE SINGLES/COUPLES</th>\n",
              "      <th>Premium</th>\n",
              "      <td>3.213170</td>\n",
              "    </tr>\n",
              "    <tr>\n",
              "      <th>RETIREES</th>\n",
              "      <th>Premium</th>\n",
              "      <td>3.209864</td>\n",
              "    </tr>\n",
              "    <tr>\n",
              "      <th>MIDAGE SINGLES/COUPLES</th>\n",
              "      <th>Budget</th>\n",
              "      <td>3.182497</td>\n",
              "    </tr>\n",
              "    <tr>\n",
              "      <th>RETIREES</th>\n",
              "      <th>Mainstream</th>\n",
              "      <td>3.140925</td>\n",
              "    </tr>\n",
              "    <tr>\n",
              "      <th rowspan=\"3\" valign=\"top\">NEW FAMILIES</th>\n",
              "      <th>Mainstream</th>\n",
              "      <td>2.632530</td>\n",
              "    </tr>\n",
              "    <tr>\n",
              "      <th>Budget</th>\n",
              "      <td>2.597976</td>\n",
              "    </tr>\n",
              "    <tr>\n",
              "      <th>Premium</th>\n",
              "      <td>2.587826</td>\n",
              "    </tr>\n",
              "    <tr>\n",
              "      <th rowspan=\"3\" valign=\"top\">YOUNG SINGLES/COUPLES</th>\n",
              "      <th>Mainstream</th>\n",
              "      <td>2.468612</td>\n",
              "    </tr>\n",
              "    <tr>\n",
              "      <th>Premium</th>\n",
              "      <td>2.359677</td>\n",
              "    </tr>\n",
              "    <tr>\n",
              "      <th>Budget</th>\n",
              "      <td>2.350699</td>\n",
              "    </tr>\n",
              "  </tbody>\n",
              "</table>\n",
              "</div>"
            ],
            "text/plain": [
              "                                        mean\n",
              "Group                  Subcription          \n",
              "OLDER FAMILIES         Mainstream   4.749283\n",
              "                       Budget       4.665799\n",
              "                       Premium      4.662931\n",
              "YOUNG FAMILIES         Premium      4.497081\n",
              "                       Budget       4.493549\n",
              "                       Mainstream   4.449534\n",
              "OLDER SINGLES/COUPLES  Budget       3.541349\n",
              "                       Premium      3.536950\n",
              "                       Mainstream   3.511939\n",
              "MIDAGE SINGLES/COUPLES Mainstream   3.364160\n",
              "RETIREES               Budget       3.244014\n",
              "MIDAGE SINGLES/COUPLES Premium      3.213170\n",
              "RETIREES               Premium      3.209864\n",
              "MIDAGE SINGLES/COUPLES Budget       3.182497\n",
              "RETIREES               Mainstream   3.140925\n",
              "NEW FAMILIES           Mainstream   2.632530\n",
              "                       Budget       2.597976\n",
              "                       Premium      2.587826\n",
              "YOUNG SINGLES/COUPLES  Mainstream   2.468612\n",
              "                       Premium      2.359677\n",
              "                       Budget       2.350699"
            ]
          },
          "metadata": {},
          "execution_count": 36
        }
      ]
    },
    {
      "cell_type": "markdown",
      "metadata": {
        "id": "cKkBzYaQxHcx"
      },
      "source": [
        "**Histogram of Chips Shopping by Segment**"
      ]
    },
    {
      "cell_type": "code",
      "metadata": {
        "colab": {
          "base_uri": "https://localhost:8080/",
          "height": 394
        },
        "id": "PAuUBeVfxELt",
        "outputId": "2f5c9dd6-746e-403c-9449-9d76dcba1405"
      },
      "source": [
        "segment_shop_chips[\"mean\"].sort_values().plot.barh(figsize = (12,7))\n",
        "plt.show()"
      ],
      "execution_count": 37,
      "outputs": [
        {
          "output_type": "display_data",
          "data": {
            "image/png": "[encoded data removed]",
            "text/plain": [
              "<Figure size 864x504 with 1 Axes>"
            ]
          },
          "metadata": {
            "needs_background": "light"
          }
        }
      ]
    },
    {
      "cell_type": "markdown",
      "metadata": {
        "id": "p76omyiNxYYD"
      },
      "source": [
        "\n",
        "\n",
        "*   Despite Older Families not having the highest population, they have highest frequency of purchase, which contributes to their high total sales.\n",
        "*   Older Families followed by Young Families has the highest average quantity of chips bought per purchase\n",
        "\n"
      ]
    },
    {
      "cell_type": "markdown",
      "metadata": {
        "id": "-Q69ilOnxyTh"
      },
      "source": [
        "**What's the average chip price by customer segment**"
      ]
    },
    {
      "cell_type": "code",
      "metadata": {
        "id": "10sx9ZZZxRnN",
        "colab": {
          "base_uri": "https://localhost:8080/",
          "height": 739
        },
        "outputId": "57454bf3-a104-42ff-f9be-c97502a38af6"
      },
      "source": [
        "avg_chips_price_cust_segment = dataset.groupby([\"Group\", \"Subcription\"])[\"Sales\"].agg([\"mean\"]).sort_values(ascending = False, by = \"mean\")\n",
        "avg_chips_price_cust_segment"
      ],
      "execution_count": 38,
      "outputs": [
        {
          "output_type": "execute_result",
          "data": {
            "text/html": [
              "<div>\n",
              "<style scoped>\n",
              "    .dataframe tbody tr th:only-of-type {\n",
              "        vertical-align: middle;\n",
              "    }\n",
              "\n",
              "    .dataframe tbody tr th {\n",
              "        vertical-align: top;\n",
              "    }\n",
              "\n",
              "    .dataframe thead th {\n",
              "        text-align: right;\n",
              "    }\n",
              "</style>\n",
              "<table border=\"1\" class=\"dataframe\">\n",
              "  <thead>\n",
              "    <tr style=\"text-align: right;\">\n",
              "      <th></th>\n",
              "      <th></th>\n",
              "      <th>mean</th>\n",
              "    </tr>\n",
              "    <tr>\n",
              "      <th>Group</th>\n",
              "      <th>Subcription</th>\n",
              "      <th></th>\n",
              "    </tr>\n",
              "  </thead>\n",
              "  <tbody>\n",
              "    <tr>\n",
              "      <th>MIDAGE SINGLES/COUPLES</th>\n",
              "      <th>Mainstream</th>\n",
              "      <td>7.637156</td>\n",
              "    </tr>\n",
              "    <tr>\n",
              "      <th>YOUNG SINGLES/COUPLES</th>\n",
              "      <th>Mainstream</th>\n",
              "      <td>7.551279</td>\n",
              "    </tr>\n",
              "    <tr>\n",
              "      <th>RETIREES</th>\n",
              "      <th>Premium</th>\n",
              "      <td>7.461315</td>\n",
              "    </tr>\n",
              "    <tr>\n",
              "      <th>OLDER SINGLES/COUPLES</th>\n",
              "      <th>Premium</th>\n",
              "      <td>7.459997</td>\n",
              "    </tr>\n",
              "    <tr>\n",
              "      <th>RETIREES</th>\n",
              "      <th>Budget</th>\n",
              "      <td>7.445786</td>\n",
              "    </tr>\n",
              "    <tr>\n",
              "      <th>OLDER SINGLES/COUPLES</th>\n",
              "      <th>Budget</th>\n",
              "      <td>7.444305</td>\n",
              "    </tr>\n",
              "    <tr>\n",
              "      <th>NEW FAMILIES</th>\n",
              "      <th>Mainstream</th>\n",
              "      <td>7.313364</td>\n",
              "    </tr>\n",
              "    <tr>\n",
              "      <th>OLDER SINGLES/COUPLES</th>\n",
              "      <th>Mainstream</th>\n",
              "      <td>7.306049</td>\n",
              "    </tr>\n",
              "    <tr>\n",
              "      <th>YOUNG FAMILIES</th>\n",
              "      <th>Budget</th>\n",
              "      <td>7.302705</td>\n",
              "    </tr>\n",
              "    <tr>\n",
              "      <th>NEW FAMILIES</th>\n",
              "      <th>Budget</th>\n",
              "      <td>7.297256</td>\n",
              "    </tr>\n",
              "    <tr>\n",
              "      <th>OLDER FAMILIES</th>\n",
              "      <th>Budget</th>\n",
              "      <td>7.291241</td>\n",
              "    </tr>\n",
              "    <tr>\n",
              "      <th>YOUNG FAMILIES</th>\n",
              "      <th>Premium</th>\n",
              "      <td>7.285951</td>\n",
              "    </tr>\n",
              "    <tr>\n",
              "      <th>OLDER FAMILIES</th>\n",
              "      <th>Mainstream</th>\n",
              "      <td>7.281440</td>\n",
              "    </tr>\n",
              "    <tr>\n",
              "      <th>RETIREES</th>\n",
              "      <th>Mainstream</th>\n",
              "      <td>7.269352</td>\n",
              "    </tr>\n",
              "    <tr>\n",
              "      <th>OLDER FAMILIES</th>\n",
              "      <th>Premium</th>\n",
              "      <td>7.232779</td>\n",
              "    </tr>\n",
              "    <tr>\n",
              "      <th>NEW FAMILIES</th>\n",
              "      <th>Premium</th>\n",
              "      <td>7.231720</td>\n",
              "    </tr>\n",
              "    <tr>\n",
              "      <th>YOUNG FAMILIES</th>\n",
              "      <th>Mainstream</th>\n",
              "      <td>7.226772</td>\n",
              "    </tr>\n",
              "    <tr>\n",
              "      <th rowspan=\"2\" valign=\"top\">MIDAGE SINGLES/COUPLES</th>\n",
              "      <th>Premium</th>\n",
              "      <td>7.152371</td>\n",
              "    </tr>\n",
              "    <tr>\n",
              "      <th>Budget</th>\n",
              "      <td>7.108442</td>\n",
              "    </tr>\n",
              "    <tr>\n",
              "      <th rowspan=\"2\" valign=\"top\">YOUNG SINGLES/COUPLES</th>\n",
              "      <th>Premium</th>\n",
              "      <td>6.673325</td>\n",
              "    </tr>\n",
              "    <tr>\n",
              "      <th>Budget</th>\n",
              "      <td>6.663023</td>\n",
              "    </tr>\n",
              "  </tbody>\n",
              "</table>\n",
              "</div>"
            ],
            "text/plain": [
              "                                        mean\n",
              "Group                  Subcription          \n",
              "MIDAGE SINGLES/COUPLES Mainstream   7.637156\n",
              "YOUNG SINGLES/COUPLES  Mainstream   7.551279\n",
              "RETIREES               Premium      7.461315\n",
              "OLDER SINGLES/COUPLES  Premium      7.459997\n",
              "RETIREES               Budget       7.445786\n",
              "OLDER SINGLES/COUPLES  Budget       7.444305\n",
              "NEW FAMILIES           Mainstream   7.313364\n",
              "OLDER SINGLES/COUPLES  Mainstream   7.306049\n",
              "YOUNG FAMILIES         Budget       7.302705\n",
              "NEW FAMILIES           Budget       7.297256\n",
              "OLDER FAMILIES         Budget       7.291241\n",
              "YOUNG FAMILIES         Premium      7.285951\n",
              "OLDER FAMILIES         Mainstream   7.281440\n",
              "RETIREES               Mainstream   7.269352\n",
              "OLDER FAMILIES         Premium      7.232779\n",
              "NEW FAMILIES           Premium      7.231720\n",
              "YOUNG FAMILIES         Mainstream   7.226772\n",
              "MIDAGE SINGLES/COUPLES Premium      7.152371\n",
              "                       Budget       7.108442\n",
              "YOUNG SINGLES/COUPLES  Premium      6.673325\n",
              "                       Budget       6.663023"
            ]
          },
          "metadata": {},
          "execution_count": 38
        }
      ]
    },
    {
      "cell_type": "markdown",
      "metadata": {
        "id": "quOD1vS5n3Ky"
      },
      "source": [
        "**Histogram Average chip price by customer segment**"
      ]
    },
    {
      "cell_type": "code",
      "metadata": {
        "colab": {
          "base_uri": "https://localhost:8080/",
          "height": 410
        },
        "id": "o7qN7M29oSX-",
        "outputId": "c6adee91-84fc-42d0-830f-9d36fba24d11"
      },
      "source": [
        "avg_chips_price_cust_segment.plot.barh(figsize = (12,7))"
      ],
      "execution_count": 39,
      "outputs": [
        {
          "output_type": "execute_result",
          "data": {
            "text/plain": [
              "<matplotlib.axes._subplots.AxesSubplot at 0x7f079ab60790>"
            ]
          },
          "metadata": {},
          "execution_count": 39
        },
        {
          "output_type": "display_data",
          "data": {
            "image/png": "[encoded data removed]",
            "text/plain": [
              "<Figure size 864x504 with 1 Axes>"
            ]
          },
          "metadata": {
            "needs_background": "light"
          }
        }
      ]
    },
    {
      "cell_type": "markdown",
      "metadata": {
        "id": "TvzZMfn3ohfc"
      },
      "source": [
        "*   The mainstream category of the \"Young and Midage Singles/Couples\" have the highest spending of chips per purchase. And the difference to the non-Mainstream \"Young and Midage Singles/Couples\" are statiscally significant"
      ]
    },
    {
      "cell_type": "markdown",
      "metadata": {
        "id": "DQgR05TioxZY"
      },
      "source": [
        "# **T-Test**\n",
        "\n",
        "The difference between their Mainstream and Non-Mainstream group might seem insignificant (7.6 vs 6.6), but we'll find out by examining if the difference is statistically significant."
      ]
    },
    {
      "cell_type": "code",
      "metadata": {
        "colab": {
          "base_uri": "https://localhost:8080/"
        },
        "id": "KmaAaZ3loaS7",
        "outputId": "20f405ee-9fdf-418b-a781-17f6d833dc0b"
      },
      "source": [
        "mainstream = dataset[\"Subcription\"] == \"Mainstream\"\n",
        "budget_premium = (dataset[\"Subcription\"] == \"Budget\") | (dataset[\"Subcription\"] == \"Premium\")\n",
        "young_midage = (dataset[\"Group\"] == \"MIDAGE SINGLES/COUPLES\") | (dataset[\"Group\"] == \"YOUNG SINGLES/COUPLES\")\n",
        "\n",
        "a = dataset[young_midage & mainstream][\"Sales\"]\n",
        "b = dataset[young_midage & budget_premium][\"Sales\"]\n",
        "\n",
        "stat, pval = ttest_ind(a.values, b.values, equal_var = False)\n",
        "print(pval)\n",
        "pval < 0.0000001"
      ],
      "execution_count": 40,
      "outputs": [
        {
          "output_type": "stream",
          "name": "stdout",
          "text": [
            "1.834645908180742e-237\n"
          ]
        },
        {
          "output_type": "execute_result",
          "data": {
            "text/plain": [
              "True"
            ]
          },
          "metadata": {},
          "execution_count": 40
        }
      ]
    },
    {
      "cell_type": "markdown",
      "metadata": {
        "id": "CsWk-0cAqmM6"
      },
      "source": [
        "*   P-Value is close to 0. There is a statistically significant difference to the Total Sales between the \"Mainstream Young Midage\" segment to the \"Budget and Premium Young Midage\" segment."
      ]
    },
    {
      "cell_type": "markdown",
      "metadata": {
        "id": "a3tOUvIkqz72"
      },
      "source": [
        "**Examine What brand of chips the top 3 segments contributing to Total Sales are Buying**"
      ]
    },
    {
      "cell_type": "code",
      "metadata": {
        "colab": {
          "base_uri": "https://localhost:8080/",
          "height": 739
        },
        "id": "GQYi4PC9pTjo",
        "outputId": "19b8d23b-610d-4dba-efc4-77a071f4c5da"
      },
      "source": [
        "dataset.groupby([\"Group\", \"Subcription\"])[\"Brand\"].agg(pd.Series.mode).sort_values().to_frame()"
      ],
      "execution_count": 41,
      "outputs": [
        {
          "output_type": "execute_result",
          "data": {
            "text/html": [
              "<div>\n",
              "<style scoped>\n",
              "    .dataframe tbody tr th:only-of-type {\n",
              "        vertical-align: middle;\n",
              "    }\n",
              "\n",
              "    .dataframe tbody tr th {\n",
              "        vertical-align: top;\n",
              "    }\n",
              "\n",
              "    .dataframe thead th {\n",
              "        text-align: right;\n",
              "    }\n",
              "</style>\n",
              "<table border=\"1\" class=\"dataframe\">\n",
              "  <thead>\n",
              "    <tr style=\"text-align: right;\">\n",
              "      <th></th>\n",
              "      <th></th>\n",
              "      <th>Brand</th>\n",
              "    </tr>\n",
              "    <tr>\n",
              "      <th>Group</th>\n",
              "      <th>Subcription</th>\n",
              "      <th></th>\n",
              "    </tr>\n",
              "  </thead>\n",
              "  <tbody>\n",
              "    <tr>\n",
              "      <th>MIDAGE SINGLES/COUPLES</th>\n",
              "      <th>Budget</th>\n",
              "      <td>Kettle</td>\n",
              "    </tr>\n",
              "    <tr>\n",
              "      <th>YOUNG SINGLES/COUPLES</th>\n",
              "      <th>Budget</th>\n",
              "      <td>Kettle</td>\n",
              "    </tr>\n",
              "    <tr>\n",
              "      <th rowspan=\"3\" valign=\"top\">YOUNG FAMILIES</th>\n",
              "      <th>Premium</th>\n",
              "      <td>Kettle</td>\n",
              "    </tr>\n",
              "    <tr>\n",
              "      <th>Mainstream</th>\n",
              "      <td>Kettle</td>\n",
              "    </tr>\n",
              "    <tr>\n",
              "      <th>Budget</th>\n",
              "      <td>Kettle</td>\n",
              "    </tr>\n",
              "    <tr>\n",
              "      <th rowspan=\"3\" valign=\"top\">RETIREES</th>\n",
              "      <th>Premium</th>\n",
              "      <td>Kettle</td>\n",
              "    </tr>\n",
              "    <tr>\n",
              "      <th>Mainstream</th>\n",
              "      <td>Kettle</td>\n",
              "    </tr>\n",
              "    <tr>\n",
              "      <th>Budget</th>\n",
              "      <td>Kettle</td>\n",
              "    </tr>\n",
              "    <tr>\n",
              "      <th>OLDER SINGLES/COUPLES</th>\n",
              "      <th>Premium</th>\n",
              "      <td>Kettle</td>\n",
              "    </tr>\n",
              "    <tr>\n",
              "      <th>YOUNG SINGLES/COUPLES</th>\n",
              "      <th>Mainstream</th>\n",
              "      <td>Kettle</td>\n",
              "    </tr>\n",
              "    <tr>\n",
              "      <th>OLDER SINGLES/COUPLES</th>\n",
              "      <th>Mainstream</th>\n",
              "      <td>Kettle</td>\n",
              "    </tr>\n",
              "    <tr>\n",
              "      <th rowspan=\"3\" valign=\"top\">OLDER FAMILIES</th>\n",
              "      <th>Premium</th>\n",
              "      <td>Kettle</td>\n",
              "    </tr>\n",
              "    <tr>\n",
              "      <th>Mainstream</th>\n",
              "      <td>Kettle</td>\n",
              "    </tr>\n",
              "    <tr>\n",
              "      <th>Budget</th>\n",
              "      <td>Kettle</td>\n",
              "    </tr>\n",
              "    <tr>\n",
              "      <th rowspan=\"3\" valign=\"top\">NEW FAMILIES</th>\n",
              "      <th>Premium</th>\n",
              "      <td>Kettle</td>\n",
              "    </tr>\n",
              "    <tr>\n",
              "      <th>Mainstream</th>\n",
              "      <td>Kettle</td>\n",
              "    </tr>\n",
              "    <tr>\n",
              "      <th>Budget</th>\n",
              "      <td>Kettle</td>\n",
              "    </tr>\n",
              "    <tr>\n",
              "      <th rowspan=\"2\" valign=\"top\">MIDAGE SINGLES/COUPLES</th>\n",
              "      <th>Premium</th>\n",
              "      <td>Kettle</td>\n",
              "    </tr>\n",
              "    <tr>\n",
              "      <th>Mainstream</th>\n",
              "      <td>Kettle</td>\n",
              "    </tr>\n",
              "    <tr>\n",
              "      <th>OLDER SINGLES/COUPLES</th>\n",
              "      <th>Budget</th>\n",
              "      <td>Kettle</td>\n",
              "    </tr>\n",
              "    <tr>\n",
              "      <th>YOUNG SINGLES/COUPLES</th>\n",
              "      <th>Premium</th>\n",
              "      <td>Kettle</td>\n",
              "    </tr>\n",
              "  </tbody>\n",
              "</table>\n",
              "</div>"
            ],
            "text/plain": [
              "                                     Brand\n",
              "Group                  Subcription        \n",
              "MIDAGE SINGLES/COUPLES Budget       Kettle\n",
              "YOUNG SINGLES/COUPLES  Budget       Kettle\n",
              "YOUNG FAMILIES         Premium      Kettle\n",
              "                       Mainstream   Kettle\n",
              "                       Budget       Kettle\n",
              "RETIREES               Premium      Kettle\n",
              "                       Mainstream   Kettle\n",
              "                       Budget       Kettle\n",
              "OLDER SINGLES/COUPLES  Premium      Kettle\n",
              "YOUNG SINGLES/COUPLES  Mainstream   Kettle\n",
              "OLDER SINGLES/COUPLES  Mainstream   Kettle\n",
              "OLDER FAMILIES         Premium      Kettle\n",
              "                       Mainstream   Kettle\n",
              "                       Budget       Kettle\n",
              "NEW FAMILIES           Premium      Kettle\n",
              "                       Mainstream   Kettle\n",
              "                       Budget       Kettle\n",
              "MIDAGE SINGLES/COUPLES Premium      Kettle\n",
              "                       Mainstream   Kettle\n",
              "OLDER SINGLES/COUPLES  Budget       Kettle\n",
              "YOUNG SINGLES/COUPLES  Premium      Kettle"
            ]
          },
          "metadata": {},
          "execution_count": 41
        }
      ]
    },
    {
      "cell_type": "markdown",
      "metadata": {
        "id": "_nO4I9eOrSg_"
      },
      "source": [
        "* Chips brand Kettle is Dominating every segment as the most purchased brand"
      ]
    },
    {
      "cell_type": "code",
      "metadata": {
        "colab": {
          "base_uri": "https://localhost:8080/",
          "height": 1000
        },
        "id": "xYWLEIsLrPR8",
        "outputId": "41c193fc-ab4f-4307-b854-addbf11fb307"
      },
      "source": [
        "for stage in dataset[\"Group\"].unique():\n",
        "  for subs in dataset[\"Subcription\"].unique():\n",
        "    print(\"==========\", stage, \"-\", subs, \"==========\")\n",
        "    summary = dataset[(dataset[\"Group\"] == stage) & (dataset[\"Subcription\"] == subs)][\"Brand\"].value_counts().head(3)\n",
        "    print(summary)\n",
        "    plt.figure()\n",
        "    summary.plot.barh(figsize = (5,1))\n",
        "    plt.show()"
      ],
      "execution_count": 42,
      "outputs": [
        {
          "output_type": "stream",
          "name": "stdout",
          "text": [
            "========== YOUNG SINGLES/COUPLES - Premium ==========\n",
            "Kettle      838\n",
            "Smiths      787\n",
            "Pringles    537\n",
            "Name: Brand, dtype: int64\n"
          ]
        },
        {
          "output_type": "display_data",
          "data": {
            "image/png": "[encoded data removed]",
            "text/plain": [
              "<Figure size 360x72 with 1 Axes>"
            ]
          },
          "metadata": {
            "needs_background": "light"
          }
        },
        {
          "output_type": "stream",
          "name": "stdout",
          "text": [
            "========== YOUNG SINGLES/COUPLES - Budget ==========\n",
            "Kettle      1211\n",
            "Smiths      1185\n",
            "Pringles     832\n",
            "Name: Brand, dtype: int64\n"
          ]
        },
        {
          "output_type": "display_data",
          "data": {
            "image/png": "[encoded data removed]",
            "text/plain": [
              "<Figure size 360x72 with 1 Axes>"
            ]
          },
          "metadata": {
            "needs_background": "light"
          }
        },
        {
          "output_type": "stream",
          "name": "stdout",
          "text": [
            "========== YOUNG SINGLES/COUPLES - Mainstream ==========\n",
            "Kettle      3844\n",
            "Doritos     2379\n",
            "Pringles    2315\n",
            "Name: Brand, dtype: int64\n"
          ]
        },
        {
          "output_type": "display_data",
          "data": {
            "image/png": "[encoded data removed]",
            "text/plain": [
              "<Figure size 360x72 with 1 Axes>"
            ]
          },
          "metadata": {
            "needs_background": "light"
          }
        },
        {
          "output_type": "stream",
          "name": "stdout",
          "text": [
            "========== MIDAGE SINGLES/COUPLES - Premium ==========\n",
            "Kettle      1206\n",
            "Smiths       923\n",
            "Pringles     781\n",
            "Name: Brand, dtype: int64\n"
          ]
        },
        {
          "output_type": "display_data",
          "data": {
            "image/png": "[encoded data removed]",
            "text/plain": [
              "<Figure size 360x72 with 1 Axes>"
            ]
          },
          "metadata": {
            "needs_background": "light"
          }
        },
        {
          "output_type": "stream",
          "name": "stdout",
          "text": [
            "========== MIDAGE SINGLES/COUPLES - Budget ==========\n",
            "Kettle     713\n",
            "Smiths     591\n",
            "Doritos    479\n",
            "Name: Brand, dtype: int64\n"
          ]
        },
        {
          "output_type": "display_data",
          "data": {
            "image/png": "[encoded data removed]",
            "text/plain": [
              "<Figure size 360x72 with 1 Axes>"
            ]
          },
          "metadata": {
            "needs_background": "light"
          }
        },
        {
          "output_type": "stream",
          "name": "stdout",
          "text": [
            "========== MIDAGE SINGLES/COUPLES - Mainstream ==========\n",
            "Kettle     2136\n",
            "Smiths     1276\n",
            "Doritos    1210\n",
            "Name: Brand, dtype: int64\n"
          ]
        },
        {
          "output_type": "display_data",
          "data": {
            "image/png": "[encoded data removed]",
            "text/plain": [
              "<Figure size 360x72 with 1 Axes>"
            ]
          },
          "metadata": {
            "needs_background": "light"
          }
        },
        {
          "output_type": "stream",
          "name": "stdout",
          "text": [
            "========== NEW FAMILIES - Premium ==========\n",
            "Kettle      247\n",
            "Pringles    165\n",
            "Smiths      155\n",
            "Name: Brand, dtype: int64\n"
          ]
        },
        {
          "output_type": "display_data",
          "data": {
            "image/png": "[encoded data removed]",
            "text/plain": [
              "<Figure size 360x72 with 1 Axes>"
            ]
          },
          "metadata": {
            "needs_background": "light"
          }
        },
        {
          "output_type": "stream",
          "name": "stdout",
          "text": [
            "========== NEW FAMILIES - Budget ==========\n",
            "Kettle     510\n",
            "Smiths     328\n",
            "Doritos    315\n",
            "Name: Brand, dtype: int64\n"
          ]
        },
        {
          "output_type": "display_data",
          "data": {
            "image/png": "[encoded data removed]",
            "text/plain": [
              "<Figure size 360x72 with 1 Axes>"
            ]
          },
          "metadata": {
            "needs_background": "light"
          }
        },
        {
          "output_type": "stream",
          "name": "stdout",
          "text": [
            "========== NEW FAMILIES - Mainstream ==========\n",
            "Kettle     414\n",
            "Doritos    257\n",
            "Smiths     244\n",
            "Name: Brand, dtype: int64\n"
          ]
        },
        {
          "output_type": "display_data",
          "data": {
            "image/png": "[encoded data removed]",
            "text/plain": [
              "<Figure size 360x72 with 1 Axes>"
            ]
          },
          "metadata": {
            "needs_background": "light"
          }
        },
        {
          "output_type": "stream",
          "name": "stdout",
          "text": [
            "========== OLDER FAMILIES - Premium ==========\n",
            "Kettle      1512\n",
            "Smiths      1448\n",
            "Pringles    1014\n",
            "Name: Brand, dtype: int64\n"
          ]
        },
        {
          "output_type": "display_data",
          "data": {
            "image/png": "[encoded data removed]",
            "text/plain": [
              "<Figure size 360x72 with 1 Axes>"
            ]
          },
          "metadata": {
            "needs_background": "light"
          }
        },
        {
          "output_type": "stream",
          "name": "stdout",
          "text": [
            "========== OLDER FAMILIES - Budget ==========\n",
            "Kettle     3320\n",
            "Smiths     2948\n",
            "Doritos    2032\n",
            "Name: Brand, dtype: int64\n"
          ]
        },
        {
          "output_type": "display_data",
          "data": {
            "image/png": "[encoded data removed]",
            "text/plain": [
              "<Figure size 360x72 with 1 Axes>"
            ]
          },
          "metadata": {
            "needs_background": "light"
          }
        },
        {
          "output_type": "stream",
          "name": "stdout",
          "text": [
            "========== OLDER FAMILIES - Mainstream ==========\n",
            "Kettle     2019\n",
            "Smiths     1742\n",
            "Doritos    1263\n",
            "Name: Brand, dtype: int64\n"
          ]
        },
        {
          "output_type": "display_data",
          "data": {
            "image/png": "[encoded data removed]",
            "text/plain": [
              "<Figure size 360x72 with 1 Axes>"
            ]
          },
          "metadata": {
            "needs_background": "light"
          }
        },
        {
          "output_type": "stream",
          "name": "stdout",
          "text": [
            "========== OLDER SINGLES/COUPLES - Premium ==========\n",
            "Kettle     2947\n",
            "Smiths     1952\n",
            "Doritos    1784\n",
            "Name: Brand, dtype: int64\n"
          ]
        },
        {
          "output_type": "display_data",
          "data": {
            "image/png": "[encoded data removed]",
            "text/plain": [
              "<Figure size 360x72 with 1 Axes>"
            ]
          },
          "metadata": {
            "needs_background": "light"
          }
        },
        {
          "output_type": "stream",
          "name": "stdout",
          "text": [
            "========== OLDER SINGLES/COUPLES - Budget ==========\n",
            "Kettle      3065\n",
            "Smiths      2010\n",
            "Pringles    1843\n",
            "Name: Brand, dtype: int64\n"
          ]
        },
        {
          "output_type": "display_data",
          "data": {
            "image/png": "[encoded data removed]",
            "text/plain": [
              "<Figure size 360x72 with 1 Axes>"
            ]
          },
          "metadata": {
            "needs_background": "light"
          }
        },
        {
          "output_type": "stream",
          "name": "stdout",
          "text": [
            "========== OLDER SINGLES/COUPLES - Mainstream ==========\n",
            "Kettle     2835\n",
            "Smiths     2070\n",
            "Doritos    1791\n",
            "Name: Brand, dtype: int64\n"
          ]
        },
        {
          "output_type": "display_data",
          "data": {
            "image/png": "[encoded data removed]",
            "text/plain": [
              "<Figure size 360x72 with 1 Axes>"
            ]
          },
          "metadata": {
            "needs_background": "light"
          }
        },
        {
          "output_type": "stream",
          "name": "stdout",
          "text": [
            "========== RETIREES - Premium ==========\n",
            "Kettle      2216\n",
            "Smiths      1395\n",
            "Pringles    1331\n",
            "Name: Brand, dtype: int64\n"
          ]
        },
        {
          "output_type": "display_data",
          "data": {
            "image/png": "[encoded data removed]",
            "text/plain": [
              "<Figure size 360x72 with 1 Axes>"
            ]
          },
          "metadata": {
            "needs_background": "light"
          }
        },
        {
          "output_type": "stream",
          "name": "stdout",
          "text": [
            "========== RETIREES - Budget ==========\n",
            "Kettle     2592\n",
            "Smiths     1612\n",
            "Doritos    1592\n",
            "Name: Brand, dtype: int64\n"
          ]
        },
        {
          "output_type": "display_data",
          "data": {
            "image/png": "[encoded data removed]",
            "text/plain": [
              "<Figure size 360x72 with 1 Axes>"
            ]
          },
          "metadata": {
            "needs_background": "light"
          }
        },
        {
          "output_type": "stream",
          "name": "stdout",
          "text": [
            "========== RETIREES - Mainstream ==========\n",
            "Kettle      3386\n",
            "Smiths      2367\n",
            "Pringles    2103\n",
            "Name: Brand, dtype: int64\n"
          ]
        },
        {
          "output_type": "display_data",
          "data": {
            "image/png": "[encoded data removed]",
            "text/plain": [
              "<Figure size 360x72 with 1 Axes>"
            ]
          },
          "metadata": {
            "needs_background": "light"
          }
        },
        {
          "output_type": "stream",
          "name": "stdout",
          "text": [
            "========== YOUNG FAMILIES - Premium ==========\n",
            "Kettle      1745\n",
            "Smiths      1384\n",
            "Pringles    1007\n",
            "Name: Brand, dtype: int64\n"
          ]
        },
        {
          "output_type": "display_data",
          "data": {
            "image/png": "[encoded data removed]",
            "text/plain": [
              "<Figure size 360x72 with 1 Axes>"
            ]
          },
          "metadata": {
            "needs_background": "light"
          }
        },
        {
          "output_type": "stream",
          "name": "stdout",
          "text": [
            "========== YOUNG FAMILIES - Budget ==========\n",
            "Kettle     2743\n",
            "Smiths     2334\n",
            "Doritos    1767\n",
            "Name: Brand, dtype: int64\n"
          ]
        },
        {
          "output_type": "display_data",
          "data": {
            "image/png": "[encoded data removed]",
            "text/plain": [
              "<Figure size 360x72 with 1 Axes>"
            ]
          },
          "metadata": {
            "needs_background": "light"
          }
        },
        {
          "output_type": "stream",
          "name": "stdout",
          "text": [
            "========== YOUNG FAMILIES - Mainstream ==========\n",
            "Kettle      1789\n",
            "Smiths      1681\n",
            "Pringles    1148\n",
            "Name: Brand, dtype: int64\n"
          ]
        },
        {
          "output_type": "display_data",
          "data": {
            "image/png": "[encoded data removed]",
            "text/plain": [
              "<Figure size 360x72 with 1 Axes>"
            ]
          },
          "metadata": {
            "needs_background": "light"
          }
        }
      ]
    },
    {
      "cell_type": "markdown",
      "metadata": {
        "id": "sTPWN74LsVs-"
      },
      "source": [
        "* Every segment had Kettle as the most purchased brand. Every segment except \"Young Singles/Couples Mainstrem\" had Smiths as their Second most Purchased brand. \"Young Singles/Couples Mainstream\" had Doritos as theie second most purchased brand."
      ]
    },
    {
      "cell_type": "markdown",
      "metadata": {
        "id": "MRojloMHssC0"
      },
      "source": [
        "**Examine if our target segments tends to buy larger packs of chips**"
      ]
    },
    {
      "cell_type": "code",
      "metadata": {
        "colab": {
          "base_uri": "https://localhost:8080/",
          "height": 417
        },
        "id": "lCjBJHmor7PF",
        "outputId": "a6242a38-e372-4e05-cd8d-a9b462cc5ad5"
      },
      "source": [
        "#merge dataset with pack size\n",
        "merged_pack = pd.concat([dataset, pack_size.rename(\"Size\")], axis =1)\n",
        "merged_pack.head()\n"
      ],
      "execution_count": 44,
      "outputs": [
        {
          "output_type": "execute_result",
          "data": {
            "text/html": [
              "<div>\n",
              "<style scoped>\n",
              "    .dataframe tbody tr th:only-of-type {\n",
              "        vertical-align: middle;\n",
              "    }\n",
              "\n",
              "    .dataframe tbody tr th {\n",
              "        vertical-align: top;\n",
              "    }\n",
              "\n",
              "    .dataframe thead th {\n",
              "        text-align: right;\n",
              "    }\n",
              "</style>\n",
              "<table border=\"1\" class=\"dataframe\">\n",
              "  <thead>\n",
              "    <tr style=\"text-align: right;\">\n",
              "      <th></th>\n",
              "      <th>Date</th>\n",
              "      <th>Store Id</th>\n",
              "      <th>Card No</th>\n",
              "      <th>Transaction Id</th>\n",
              "      <th>Product Id</th>\n",
              "      <th>Product</th>\n",
              "      <th>Quantity</th>\n",
              "      <th>Sales</th>\n",
              "      <th>Group</th>\n",
              "      <th>Subcription</th>\n",
              "      <th>Brand</th>\n",
              "      <th>Size</th>\n",
              "    </tr>\n",
              "  </thead>\n",
              "  <tbody>\n",
              "    <tr>\n",
              "      <th>0</th>\n",
              "      <td>2018-10-17</td>\n",
              "      <td>1</td>\n",
              "      <td>1000</td>\n",
              "      <td>1</td>\n",
              "      <td>5</td>\n",
              "      <td>Natural Chip        Compny SeaSalt175g</td>\n",
              "      <td>2</td>\n",
              "      <td>6.0</td>\n",
              "      <td>YOUNG SINGLES/COUPLES</td>\n",
              "      <td>Premium</td>\n",
              "      <td>Natural Chip Co</td>\n",
              "      <td>175.0</td>\n",
              "    </tr>\n",
              "    <tr>\n",
              "      <th>1</th>\n",
              "      <td>2019-05-14</td>\n",
              "      <td>1</td>\n",
              "      <td>1307</td>\n",
              "      <td>348</td>\n",
              "      <td>66</td>\n",
              "      <td>CCs Nacho Cheese    175g</td>\n",
              "      <td>3</td>\n",
              "      <td>6.3</td>\n",
              "      <td>MIDAGE SINGLES/COUPLES</td>\n",
              "      <td>Budget</td>\n",
              "      <td>CCs</td>\n",
              "      <td>175.0</td>\n",
              "    </tr>\n",
              "    <tr>\n",
              "      <th>2</th>\n",
              "      <td>2019-05-20</td>\n",
              "      <td>1</td>\n",
              "      <td>1343</td>\n",
              "      <td>383</td>\n",
              "      <td>61</td>\n",
              "      <td>Smiths Crinkle Cut  Chips Chicken 170g</td>\n",
              "      <td>2</td>\n",
              "      <td>2.9</td>\n",
              "      <td>MIDAGE SINGLES/COUPLES</td>\n",
              "      <td>Budget</td>\n",
              "      <td>Smiths</td>\n",
              "      <td>170.0</td>\n",
              "    </tr>\n",
              "    <tr>\n",
              "      <th>3</th>\n",
              "      <td>2018-08-17</td>\n",
              "      <td>2</td>\n",
              "      <td>2373</td>\n",
              "      <td>974</td>\n",
              "      <td>69</td>\n",
              "      <td>Smiths Chip Thinly  S/Cream&amp;Onion 175g</td>\n",
              "      <td>5</td>\n",
              "      <td>15.0</td>\n",
              "      <td>MIDAGE SINGLES/COUPLES</td>\n",
              "      <td>Budget</td>\n",
              "      <td>Smiths</td>\n",
              "      <td>175.0</td>\n",
              "    </tr>\n",
              "    <tr>\n",
              "      <th>4</th>\n",
              "      <td>2018-08-18</td>\n",
              "      <td>2</td>\n",
              "      <td>2426</td>\n",
              "      <td>1038</td>\n",
              "      <td>108</td>\n",
              "      <td>Kettle Tortilla ChpsHny&amp;Jlpno Chili 150g</td>\n",
              "      <td>3</td>\n",
              "      <td>13.8</td>\n",
              "      <td>MIDAGE SINGLES/COUPLES</td>\n",
              "      <td>Budget</td>\n",
              "      <td>Kettle</td>\n",
              "      <td>150.0</td>\n",
              "    </tr>\n",
              "  </tbody>\n",
              "</table>\n",
              "</div>"
            ],
            "text/plain": [
              "        Date  Store Id  Card No  ...  Subcription            Brand   Size\n",
              "0 2018-10-17         1     1000  ...      Premium  Natural Chip Co  175.0\n",
              "1 2019-05-14         1     1307  ...       Budget              CCs  175.0\n",
              "2 2019-05-20         1     1343  ...       Budget           Smiths  170.0\n",
              "3 2018-08-17         2     2373  ...       Budget           Smiths  175.0\n",
              "4 2018-08-18         2     2426  ...       Budget           Kettle  150.0\n",
              "\n",
              "[5 rows x 12 columns]"
            ]
          },
          "metadata": {},
          "execution_count": 44
        }
      ]
    },
    {
      "cell_type": "code",
      "metadata": {
        "colab": {
          "base_uri": "https://localhost:8080/",
          "height": 1000
        },
        "id": "tQAOrsE9lFfV",
        "outputId": "c17bbc82-fa9d-4b5d-f49c-2892a818be86"
      },
      "source": [
        "for stage in merged_pack[\"Group\"].unique():\n",
        "  for subs in merged_pack[\"Subcription\"].unique():\n",
        "    print(\"==========\", stage, \"-\", subs, \"==========\")\n",
        "    summary = merged_pack[(merged_pack[\"Group\"] == stage) & (merged_pack[\"Subcription\"] == subs)][\"Size\"].value_counts().head(3)\n",
        "    print(summary)\n",
        "    plt.figure()\n",
        "    summary.plot.barh(figsize = (5,1))\n",
        "    plt.show()"
      ],
      "execution_count": 47,
      "outputs": [
        {
          "output_type": "stream",
          "name": "stdout",
          "text": [
            "========== YOUNG SINGLES/COUPLES - Premium ==========\n",
            "175.0    1587\n",
            "150.0     896\n",
            "134.0     537\n",
            "Name: Size, dtype: int64\n"
          ]
        },
        {
          "output_type": "display_data",
          "data": {
            "image/png": "[encoded data removed]",
            "text/plain": [
              "<Figure size 360x72 with 1 Axes>"
            ]
          },
          "metadata": {
            "needs_background": "light"
          }
        },
        {
          "output_type": "stream",
          "name": "stdout",
          "text": [
            "========== YOUNG SINGLES/COUPLES - Budget ==========\n",
            "175.0    2262\n",
            "150.0    1325\n",
            "134.0     832\n",
            "Name: Size, dtype: int64\n"
          ]
        },
        {
          "output_type": "display_data",
          "data": {
            "image/png": "[encoded data removed]",
            "text/plain": [
              "<Figure size 360x72 with 1 Axes>"
            ]
          },
          "metadata": {
            "needs_background": "light"
          }
        },
        {
          "output_type": "stream",
          "name": "stdout",
          "text": [
            "========== YOUNG SINGLES/COUPLES - Mainstream ==========\n",
            "175.0    4928\n",
            "150.0    2998\n",
            "134.0    2315\n",
            "Name: Size, dtype: int64\n"
          ]
        },
        {
          "output_type": "display_data",
          "data": {
            "image/png": "[encoded data removed]",
            "text/plain": [
              "<Figure size 360x72 with 1 Axes>"
            ]
          },
          "metadata": {
            "needs_background": "light"
          }
        },
        {
          "output_type": "stream",
          "name": "stdout",
          "text": [
            "========== MIDAGE SINGLES/COUPLES - Premium ==========\n",
            "175.0    2034\n",
            "150.0    1163\n",
            "134.0     781\n",
            "Name: Size, dtype: int64\n"
          ]
        },
        {
          "output_type": "display_data",
          "data": {
            "image/png": "[encoded data removed]",
            "text/plain": [
              "<Figure size 360x72 with 1 Axes>"
            ]
          },
          "metadata": {
            "needs_background": "light"
          }
        },
        {
          "output_type": "stream",
          "name": "stdout",
          "text": [
            "========== MIDAGE SINGLES/COUPLES - Budget ==========\n",
            "175.0    1256\n",
            "150.0     746\n",
            "134.0     449\n",
            "Name: Size, dtype: int64\n"
          ]
        },
        {
          "output_type": "display_data",
          "data": {
            "image/png": "[encoded data removed]",
            "text/plain": [
              "<Figure size 360x72 with 1 Axes>"
            ]
          },
          "metadata": {
            "needs_background": "light"
          }
        },
        {
          "output_type": "stream",
          "name": "stdout",
          "text": [
            "========== MIDAGE SINGLES/COUPLES - Mainstream ==========\n",
            "175.0    2912\n",
            "150.0    1714\n",
            "134.0    1159\n",
            "Name: Size, dtype: int64\n"
          ]
        },
        {
          "output_type": "display_data",
          "data": {
            "image/png": "[encoded data removed]",
            "text/plain": [
              "<Figure size 360x72 with 1 Axes>"
            ]
          },
          "metadata": {
            "needs_background": "light"
          }
        },
        {
          "output_type": "stream",
          "name": "stdout",
          "text": [
            "========== NEW FAMILIES - Premium ==========\n",
            "175.0    371\n",
            "150.0    225\n",
            "134.0    165\n",
            "Name: Size, dtype: int64\n"
          ]
        },
        {
          "output_type": "display_data",
          "data": {
            "image/png": "[encoded data removed]",
            "text/plain": [
              "<Figure size 360x72 with 1 Axes>"
            ]
          },
          "metadata": {
            "needs_background": "light"
          }
        },
        {
          "output_type": "stream",
          "name": "stdout",
          "text": [
            "========== NEW FAMILIES - Budget ==========\n",
            "175.0    763\n",
            "150.0    425\n",
            "134.0    309\n",
            "Name: Size, dtype: int64\n"
          ]
        },
        {
          "output_type": "display_data",
          "data": {
            "image/png": "[encoded data removed]",
            "text/plain": [
              "<Figure size 360x72 with 1 Axes>"
            ]
          },
          "metadata": {
            "needs_background": "light"
          }
        },
        {
          "output_type": "stream",
          "name": "stdout",
          "text": [
            "========== NEW FAMILIES - Mainstream ==========\n",
            "175.0    579\n",
            "150.0    362\n",
            "134.0    224\n",
            "Name: Size, dtype: int64\n"
          ]
        },
        {
          "output_type": "display_data",
          "data": {
            "image/png": "[encoded data removed]",
            "text/plain": [
              "<Figure size 360x72 with 1 Axes>"
            ]
          },
          "metadata": {
            "needs_background": "light"
          }
        },
        {
          "output_type": "stream",
          "name": "stdout",
          "text": [
            "========== OLDER FAMILIES - Premium ==========\n",
            "175.0    2747\n",
            "150.0    1607\n",
            "134.0    1014\n",
            "Name: Size, dtype: int64\n"
          ]
        },
        {
          "output_type": "display_data",
          "data": {
            "image/png": "[encoded data removed]",
            "text/plain": [
              "<Figure size 360x72 with 1 Axes>"
            ]
          },
          "metadata": {
            "needs_background": "light"
          }
        },
        {
          "output_type": "stream",
          "name": "stdout",
          "text": [
            "========== OLDER FAMILIES - Budget ==========\n",
            "175.0    5662\n",
            "150.0    3414\n",
            "134.0    1996\n",
            "Name: Size, dtype: int64\n"
          ]
        },
        {
          "output_type": "display_data",
          "data": {
            "image/png": "[encoded data removed]",
            "text/plain": [
              "<Figure size 360x72 with 1 Axes>"
            ]
          },
          "metadata": {
            "needs_background": "light"
          }
        },
        {
          "output_type": "stream",
          "name": "stdout",
          "text": [
            "========== OLDER FAMILIES - Mainstream ==========\n",
            "175.0    3489\n",
            "150.0    2091\n",
            "134.0    1234\n",
            "Name: Size, dtype: int64\n"
          ]
        },
        {
          "output_type": "display_data",
          "data": {
            "image/png": "[encoded data removed]",
            "text/plain": [
              "<Figure size 360x72 with 1 Axes>"
            ]
          },
          "metadata": {
            "needs_background": "light"
          }
        },
        {
          "output_type": "stream",
          "name": "stdout",
          "text": [
            "========== OLDER SINGLES/COUPLES - Premium ==========\n",
            "175.0    4382\n",
            "150.0    2672\n",
            "134.0    1744\n",
            "Name: Size, dtype: int64\n"
          ]
        },
        {
          "output_type": "display_data",
          "data": {
            "image/png": "[encoded data removed]",
            "text/plain": [
              "<Figure size 360x72 with 1 Axes>"
            ]
          },
          "metadata": {
            "needs_background": "light"
          }
        },
        {
          "output_type": "stream",
          "name": "stdout",
          "text": [
            "========== OLDER SINGLES/COUPLES - Budget ==========\n",
            "175.0    4535\n",
            "150.0    2726\n",
            "134.0    1843\n",
            "Name: Size, dtype: int64\n"
          ]
        },
        {
          "output_type": "display_data",
          "data": {
            "image/png": "[encoded data removed]",
            "text/plain": [
              "<Figure size 360x72 with 1 Axes>"
            ]
          },
          "metadata": {
            "needs_background": "light"
          }
        },
        {
          "output_type": "stream",
          "name": "stdout",
          "text": [
            "========== OLDER SINGLES/COUPLES - Mainstream ==========\n",
            "175.0    4422\n",
            "150.0    2660\n",
            "134.0    1720\n",
            "Name: Size, dtype: int64\n"
          ]
        },
        {
          "output_type": "display_data",
          "data": {
            "image/png": "[encoded data removed]",
            "text/plain": [
              "<Figure size 360x72 with 1 Axes>"
            ]
          },
          "metadata": {
            "needs_background": "light"
          }
        },
        {
          "output_type": "stream",
          "name": "stdout",
          "text": [
            "========== RETIREES - Premium ==========\n",
            "175.0    3232\n",
            "150.0    1883\n",
            "134.0    1331\n",
            "Name: Size, dtype: int64\n"
          ]
        },
        {
          "output_type": "display_data",
          "data": {
            "image/png": "[encoded data removed]",
            "text/plain": [
              "<Figure size 360x72 with 1 Axes>"
            ]
          },
          "metadata": {
            "needs_background": "light"
          }
        },
        {
          "output_type": "stream",
          "name": "stdout",
          "text": [
            "========== RETIREES - Budget ==========\n",
            "175.0    3768\n",
            "150.0    2242\n",
            "134.0    1517\n",
            "Name: Size, dtype: int64\n"
          ]
        },
        {
          "output_type": "display_data",
          "data": {
            "image/png": "[encoded data removed]",
            "text/plain": [
              "<Figure size 360x72 with 1 Axes>"
            ]
          },
          "metadata": {
            "needs_background": "light"
          }
        },
        {
          "output_type": "stream",
          "name": "stdout",
          "text": [
            "========== RETIREES - Mainstream ==========\n",
            "175.0    5187\n",
            "150.0    3183\n",
            "134.0    2103\n",
            "Name: Size, dtype: int64\n"
          ]
        },
        {
          "output_type": "display_data",
          "data": {
            "image/png": "[encoded data removed]",
            "text/plain": [
              "<Figure size 360x72 with 1 Axes>"
            ]
          },
          "metadata": {
            "needs_background": "light"
          }
        },
        {
          "output_type": "stream",
          "name": "stdout",
          "text": [
            "========== YOUNG FAMILIES - Premium ==========\n",
            "175.0    2926\n",
            "150.0    1697\n",
            "134.0    1007\n",
            "Name: Size, dtype: int64\n"
          ]
        },
        {
          "output_type": "display_data",
          "data": {
            "image/png": "[encoded data removed]",
            "text/plain": [
              "<Figure size 360x72 with 1 Axes>"
            ]
          },
          "metadata": {
            "needs_background": "light"
          }
        },
        {
          "output_type": "stream",
          "name": "stdout",
          "text": [
            "========== YOUNG FAMILIES - Budget ==========\n",
            "175.0    4800\n",
            "150.0    2749\n",
            "134.0    1674\n",
            "Name: Size, dtype: int64\n"
          ]
        },
        {
          "output_type": "display_data",
          "data": {
            "image/png": "[encoded data removed]",
            "text/plain": [
              "<Figure size 360x72 with 1 Axes>"
            ]
          },
          "metadata": {
            "needs_background": "light"
          }
        },
        {
          "output_type": "stream",
          "name": "stdout",
          "text": [
            "========== YOUNG FAMILIES - Mainstream ==========\n",
            "175.0    3087\n",
            "150.0    1927\n",
            "134.0    1148\n",
            "Name: Size, dtype: int64\n"
          ]
        },
        {
          "output_type": "display_data",
          "data": {
            "image/png": "[encoded data removed]",
            "text/plain": [
              "<Figure size 360x72 with 1 Axes>"
            ]
          },
          "metadata": {
            "needs_background": "light"
          }
        }
      ]
    },
    {
      "cell_type": "markdown",
      "metadata": {
        "id": "mg45crl1lMJd"
      },
      "source": [
        "* Most frequent chip size purchased is 175gr followed by the 150gr chip size for all segments."
      ]
    },
    {
      "cell_type": "markdown",
      "metadata": {
        "id": "cQZS-_l7l0lk"
      },
      "source": [
        "**Average amount of chips bought per customer segment.**"
      ]
    },
    {
      "cell_type": "code",
      "metadata": {
        "colab": {
          "base_uri": "https://localhost:8080/",
          "height": 739
        },
        "id": "hAbF34ncloEv",
        "outputId": "fc3b1d8f-1b2a-4cd5-c8a8-d5ef84e8106f"
      },
      "source": [
        "avg_chips = (dataset.groupby([\"Group\", \"Subcription\"])[\"Quantity\"].sum() / dataset.groupby([\"Group\", \"Subcription\"])[\"Card No\"].nunique()).sort_values(ascending=False).to_frame()\n",
        "avg_chips"
      ],
      "execution_count": 48,
      "outputs": [
        {
          "output_type": "execute_result",
          "data": {
            "text/html": [
              "<div>\n",
              "<style scoped>\n",
              "    .dataframe tbody tr th:only-of-type {\n",
              "        vertical-align: middle;\n",
              "    }\n",
              "\n",
              "    .dataframe tbody tr th {\n",
              "        vertical-align: top;\n",
              "    }\n",
              "\n",
              "    .dataframe thead th {\n",
              "        text-align: right;\n",
              "    }\n",
              "</style>\n",
              "<table border=\"1\" class=\"dataframe\">\n",
              "  <thead>\n",
              "    <tr style=\"text-align: right;\">\n",
              "      <th></th>\n",
              "      <th></th>\n",
              "      <th>0</th>\n",
              "    </tr>\n",
              "    <tr>\n",
              "      <th>Group</th>\n",
              "      <th>Subcription</th>\n",
              "      <th></th>\n",
              "    </tr>\n",
              "  </thead>\n",
              "  <tbody>\n",
              "    <tr>\n",
              "      <th rowspan=\"3\" valign=\"top\">OLDER FAMILIES</th>\n",
              "      <th>Mainstream</th>\n",
              "      <td>9.255380</td>\n",
              "    </tr>\n",
              "    <tr>\n",
              "      <th>Budget</th>\n",
              "      <td>9.076773</td>\n",
              "    </tr>\n",
              "    <tr>\n",
              "      <th>Premium</th>\n",
              "      <td>9.071717</td>\n",
              "    </tr>\n",
              "    <tr>\n",
              "      <th rowspan=\"3\" valign=\"top\">YOUNG FAMILIES</th>\n",
              "      <th>Budget</th>\n",
              "      <td>8.722995</td>\n",
              "    </tr>\n",
              "    <tr>\n",
              "      <th>Premium</th>\n",
              "      <td>8.716013</td>\n",
              "    </tr>\n",
              "    <tr>\n",
              "      <th>Mainstream</th>\n",
              "      <td>8.638361</td>\n",
              "    </tr>\n",
              "    <tr>\n",
              "      <th rowspan=\"3\" valign=\"top\">OLDER SINGLES/COUPLES</th>\n",
              "      <th>Budget</th>\n",
              "      <td>6.781398</td>\n",
              "    </tr>\n",
              "    <tr>\n",
              "      <th>Premium</th>\n",
              "      <td>6.769543</td>\n",
              "    </tr>\n",
              "    <tr>\n",
              "      <th>Mainstream</th>\n",
              "      <td>6.712021</td>\n",
              "    </tr>\n",
              "    <tr>\n",
              "      <th>MIDAGE SINGLES/COUPLES</th>\n",
              "      <th>Mainstream</th>\n",
              "      <td>6.432080</td>\n",
              "    </tr>\n",
              "    <tr>\n",
              "      <th rowspan=\"2\" valign=\"top\">RETIREES</th>\n",
              "      <th>Budget</th>\n",
              "      <td>6.141847</td>\n",
              "    </tr>\n",
              "    <tr>\n",
              "      <th>Premium</th>\n",
              "      <td>6.103358</td>\n",
              "    </tr>\n",
              "    <tr>\n",
              "      <th rowspan=\"2\" valign=\"top\">MIDAGE SINGLES/COUPLES</th>\n",
              "      <th>Premium</th>\n",
              "      <td>6.078514</td>\n",
              "    </tr>\n",
              "    <tr>\n",
              "      <th>Budget</th>\n",
              "      <td>6.026459</td>\n",
              "    </tr>\n",
              "    <tr>\n",
              "      <th>RETIREES</th>\n",
              "      <th>Mainstream</th>\n",
              "      <td>5.925920</td>\n",
              "    </tr>\n",
              "    <tr>\n",
              "      <th rowspan=\"3\" valign=\"top\">NEW FAMILIES</th>\n",
              "      <th>Mainstream</th>\n",
              "      <td>4.891566</td>\n",
              "    </tr>\n",
              "    <tr>\n",
              "      <th>Budget</th>\n",
              "      <td>4.821527</td>\n",
              "    </tr>\n",
              "    <tr>\n",
              "      <th>Premium</th>\n",
              "      <td>4.815652</td>\n",
              "    </tr>\n",
              "    <tr>\n",
              "      <th rowspan=\"3\" valign=\"top\">YOUNG SINGLES/COUPLES</th>\n",
              "      <th>Mainstream</th>\n",
              "      <td>4.575597</td>\n",
              "    </tr>\n",
              "    <tr>\n",
              "      <th>Premium</th>\n",
              "      <td>4.264113</td>\n",
              "    </tr>\n",
              "    <tr>\n",
              "      <th>Budget</th>\n",
              "      <td>4.250069</td>\n",
              "    </tr>\n",
              "  </tbody>\n",
              "</table>\n",
              "</div>"
            ],
            "text/plain": [
              "                                           0\n",
              "Group                  Subcription          \n",
              "OLDER FAMILIES         Mainstream   9.255380\n",
              "                       Budget       9.076773\n",
              "                       Premium      9.071717\n",
              "YOUNG FAMILIES         Budget       8.722995\n",
              "                       Premium      8.716013\n",
              "                       Mainstream   8.638361\n",
              "OLDER SINGLES/COUPLES  Budget       6.781398\n",
              "                       Premium      6.769543\n",
              "                       Mainstream   6.712021\n",
              "MIDAGE SINGLES/COUPLES Mainstream   6.432080\n",
              "RETIREES               Budget       6.141847\n",
              "                       Premium      6.103358\n",
              "MIDAGE SINGLES/COUPLES Premium      6.078514\n",
              "                       Budget       6.026459\n",
              "RETIREES               Mainstream   5.925920\n",
              "NEW FAMILIES           Mainstream   4.891566\n",
              "                       Budget       4.821527\n",
              "                       Premium      4.815652\n",
              "YOUNG SINGLES/COUPLES  Mainstream   4.575597\n",
              "                       Premium      4.264113\n",
              "                       Budget       4.250069"
            ]
          },
          "metadata": {},
          "execution_count": 48
        }
      ]
    },
    {
      "cell_type": "markdown",
      "metadata": {
        "id": "TtAuUafNmodA"
      },
      "source": [
        "**Histogram Average amount of chips bouth per customer segment.**"
      ]
    },
    {
      "cell_type": "code",
      "metadata": {
        "colab": {
          "base_uri": "https://localhost:8080/",
          "height": 250
        },
        "id": "1LAK31Xjmjxe",
        "outputId": "4b581032-76bb-4cba-ea04-910b3092696d"
      },
      "source": [
        "avg_chips.unstack().plot.bar(figsize = (15,4), rot = 0)\n",
        "plt.title(\"Average amount of chips bought per customer segment\")\n",
        "plt.legend(loc=\"center left\", bbox_to_anchor=(1.0, 0.5))\n",
        "plt.ylabel(\"Quantity\")\n",
        "plt.show()"
      ],
      "execution_count": 50,
      "outputs": [
        {
          "output_type": "display_data",
          "data": {
            "image/png": "[encoded data removed]",
            "text/plain": [
              "<Figure size 1080x288 with 1 Axes>"
            ]
          },
          "metadata": {
            "needs_background": "light"
          }
        }
      ]
    },
    {
      "cell_type": "markdown",
      "metadata": {
        "id": "kUNRWro0nDay"
      },
      "source": [
        "**Average chips price per transaction by segments.**"
      ]
    },
    {
      "cell_type": "code",
      "metadata": {
        "colab": {
          "base_uri": "https://localhost:8080/",
          "height": 739
        },
        "id": "8bjnMm6Cm94T",
        "outputId": "96789701-76f2-44ac-f16a-9a677c218b56"
      },
      "source": [
        "dataset[\"Unit Price\"] = dataset[\"Sales\"] / dataset[\"Quantity\"]\n",
        "chips_segment = dataset.groupby([\"Group\", \"Subcription\"]).mean()[\"Unit Price\"].sort_values(ascending = False).to_frame()\n",
        "chips_segment"
      ],
      "execution_count": 52,
      "outputs": [
        {
          "output_type": "execute_result",
          "data": {
            "text/html": [
              "<div>\n",
              "<style scoped>\n",
              "    .dataframe tbody tr th:only-of-type {\n",
              "        vertical-align: middle;\n",
              "    }\n",
              "\n",
              "    .dataframe tbody tr th {\n",
              "        vertical-align: top;\n",
              "    }\n",
              "\n",
              "    .dataframe thead th {\n",
              "        text-align: right;\n",
              "    }\n",
              "</style>\n",
              "<table border=\"1\" class=\"dataframe\">\n",
              "  <thead>\n",
              "    <tr style=\"text-align: right;\">\n",
              "      <th></th>\n",
              "      <th></th>\n",
              "      <th>Unit Price</th>\n",
              "    </tr>\n",
              "    <tr>\n",
              "      <th>Group</th>\n",
              "      <th>Subcription</th>\n",
              "      <th></th>\n",
              "    </tr>\n",
              "  </thead>\n",
              "  <tbody>\n",
              "    <tr>\n",
              "      <th>YOUNG SINGLES/COUPLES</th>\n",
              "      <th>Mainstream</th>\n",
              "      <td>4.065642</td>\n",
              "    </tr>\n",
              "    <tr>\n",
              "      <th>MIDAGE SINGLES/COUPLES</th>\n",
              "      <th>Mainstream</th>\n",
              "      <td>3.994241</td>\n",
              "    </tr>\n",
              "    <tr>\n",
              "      <th rowspan=\"2\" valign=\"top\">RETIREES</th>\n",
              "      <th>Budget</th>\n",
              "      <td>3.924404</td>\n",
              "    </tr>\n",
              "    <tr>\n",
              "      <th>Premium</th>\n",
              "      <td>3.920942</td>\n",
              "    </tr>\n",
              "    <tr>\n",
              "      <th rowspan=\"2\" valign=\"top\">NEW FAMILIES</th>\n",
              "      <th>Budget</th>\n",
              "      <td>3.917688</td>\n",
              "    </tr>\n",
              "    <tr>\n",
              "      <th>Mainstream</th>\n",
              "      <td>3.916133</td>\n",
              "    </tr>\n",
              "    <tr>\n",
              "      <th rowspan=\"2\" valign=\"top\">OLDER SINGLES/COUPLES</th>\n",
              "      <th>Premium</th>\n",
              "      <td>3.893182</td>\n",
              "    </tr>\n",
              "    <tr>\n",
              "      <th>Budget</th>\n",
              "      <td>3.882096</td>\n",
              "    </tr>\n",
              "    <tr>\n",
              "      <th>NEW FAMILIES</th>\n",
              "      <th>Premium</th>\n",
              "      <td>3.872110</td>\n",
              "    </tr>\n",
              "    <tr>\n",
              "      <th>RETIREES</th>\n",
              "      <th>Mainstream</th>\n",
              "      <td>3.844294</td>\n",
              "    </tr>\n",
              "    <tr>\n",
              "      <th>OLDER SINGLES/COUPLES</th>\n",
              "      <th>Mainstream</th>\n",
              "      <td>3.814665</td>\n",
              "    </tr>\n",
              "    <tr>\n",
              "      <th>MIDAGE SINGLES/COUPLES</th>\n",
              "      <th>Premium</th>\n",
              "      <td>3.770698</td>\n",
              "    </tr>\n",
              "    <tr>\n",
              "      <th rowspan=\"2\" valign=\"top\">YOUNG FAMILIES</th>\n",
              "      <th>Premium</th>\n",
              "      <td>3.762150</td>\n",
              "    </tr>\n",
              "    <tr>\n",
              "      <th>Budget</th>\n",
              "      <td>3.760737</td>\n",
              "    </tr>\n",
              "    <tr>\n",
              "      <th>OLDER FAMILIES</th>\n",
              "      <th>Budget</th>\n",
              "      <td>3.745340</td>\n",
              "    </tr>\n",
              "    <tr>\n",
              "      <th>MIDAGE SINGLES/COUPLES</th>\n",
              "      <th>Budget</th>\n",
              "      <td>3.743328</td>\n",
              "    </tr>\n",
              "    <tr>\n",
              "      <th>OLDER FAMILIES</th>\n",
              "      <th>Mainstream</th>\n",
              "      <td>3.737077</td>\n",
              "    </tr>\n",
              "    <tr>\n",
              "      <th>YOUNG FAMILIES</th>\n",
              "      <th>Mainstream</th>\n",
              "      <td>3.724533</td>\n",
              "    </tr>\n",
              "    <tr>\n",
              "      <th>OLDER FAMILIES</th>\n",
              "      <th>Premium</th>\n",
              "      <td>3.717000</td>\n",
              "    </tr>\n",
              "    <tr>\n",
              "      <th rowspan=\"2\" valign=\"top\">YOUNG SINGLES/COUPLES</th>\n",
              "      <th>Premium</th>\n",
              "      <td>3.665414</td>\n",
              "    </tr>\n",
              "    <tr>\n",
              "      <th>Budget</th>\n",
              "      <td>3.657366</td>\n",
              "    </tr>\n",
              "  </tbody>\n",
              "</table>\n",
              "</div>"
            ],
            "text/plain": [
              "                                    Unit Price\n",
              "Group                  Subcription            \n",
              "YOUNG SINGLES/COUPLES  Mainstream     4.065642\n",
              "MIDAGE SINGLES/COUPLES Mainstream     3.994241\n",
              "RETIREES               Budget         3.924404\n",
              "                       Premium        3.920942\n",
              "NEW FAMILIES           Budget         3.917688\n",
              "                       Mainstream     3.916133\n",
              "OLDER SINGLES/COUPLES  Premium        3.893182\n",
              "                       Budget         3.882096\n",
              "NEW FAMILIES           Premium        3.872110\n",
              "RETIREES               Mainstream     3.844294\n",
              "OLDER SINGLES/COUPLES  Mainstream     3.814665\n",
              "MIDAGE SINGLES/COUPLES Premium        3.770698\n",
              "YOUNG FAMILIES         Premium        3.762150\n",
              "                       Budget         3.760737\n",
              "OLDER FAMILIES         Budget         3.745340\n",
              "MIDAGE SINGLES/COUPLES Budget         3.743328\n",
              "OLDER FAMILIES         Mainstream     3.737077\n",
              "YOUNG FAMILIES         Mainstream     3.724533\n",
              "OLDER FAMILIES         Premium        3.717000\n",
              "YOUNG SINGLES/COUPLES  Premium        3.665414\n",
              "                       Budget         3.657366"
            ]
          },
          "metadata": {},
          "execution_count": 52
        }
      ]
    },
    {
      "cell_type": "code",
      "metadata": {
        "colab": {
          "base_uri": "https://localhost:8080/",
          "height": 228
        },
        "id": "ukWWdLUPnh2m",
        "outputId": "a7aff95d-a120-4e79-f6c3-4d1cf0fa384a"
      },
      "source": [
        "chips_segment.unstack().plot.bar(figsize = (15,4), rot = 0)\n",
        "plt.legend(loc = \"center left\", bbox_to_anchor = (1, 0.5))\n",
        "plt.show()"
      ],
      "execution_count": 53,
      "outputs": [
        {
          "output_type": "display_data",
          "data": {
            "image/png": "[encoded data removed]",
            "text/plain": [
              "<Figure size 1080x288 with 1 Axes>"
            ]
          },
          "metadata": {
            "needs_background": "light"
          }
        }
      ]
    }
  ]
}